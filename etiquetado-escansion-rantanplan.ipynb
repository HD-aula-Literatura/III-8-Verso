{
 "cells": [
  {
   "cell_type": "markdown",
   "metadata": {},
   "source": [
    "# Escansión automática con Rantanplan"
   ]
  },
  {
   "cell_type": "markdown",
   "metadata": {},
   "source": [
    "- [Instalación de la librería spaCy para procesamiento del lenguaje](#instalar-spacy)\n",
    "- [Instalar Rantanplan](#instalar-rantanplan)\n",
    "- [Aplicar Rantanplan para la escansión (sobre un solo poema)](#escansion-rantanplan)\n",
    "  - [Extraer los patrones métricos a partir del resultado de Rantanplan](#extraer-escansion)\n",
    "  - [Formatear los resultados](#formatear-resultados)\n",
    "    - [Añadir el número del verso](#anadir-numero-verso)\n",
    "    - [Expresar los patrones métricos con cifras](#patron-metrico-cifras)\n",
    "    - [Añadir el texto de cada verso](#anadir-texto-verso)\n",
    "- [Aplicar Rantanplan para la escansión de varios poemas en un directorio](#escansion-rantanplan-directorio)"
   ]
  },
  {
   "cell_type": "markdown",
   "metadata": {},
   "source": [
    "Este notebook muestra cómo utilizar [Rantanplan](https://github.com/linhd-postdata/rantanplan) para la escansión automática en español."
   ]
  },
  {
   "cell_type": "markdown",
   "metadata": {},
   "source": [
    "<a name=\"instalar-spacy\"></a>\n",
    "\n",
    "## Instalación de la librería spaCy (procesamiento del lenguaje)"
   ]
  },
  {
   "cell_type": "markdown",
   "metadata": {},
   "source": [
    "Primero debemos instalar la librería spaCy en su versión 2.2.4. Rantanplan usa los análisis gramaticales proporcionados por ésta dentro de su análisis de la tonicidad léxica de las sílabas, que precede a la silabificación métrica y escansión.\n",
    "\n",
    "El comando se precede de signo de exclamación porque no es código Python, sino una instrucción de la línea de comandos o shell del sistema."
   ]
  },
  {
   "cell_type": "code",
   "execution_count": 5,
   "metadata": {},
   "outputs": [
    {
     "name": "stdout",
     "output_type": "stream",
     "text": [
      "Collecting spacy==2.2.4\n",
      "  Using cached spacy-2.2.4-cp39-cp39-linux_x86_64.whl\n",
      "Requirement already satisfied: numpy>=1.15.0 in /home/ruizfabo/anaconda3/envs/py39deezy/lib/python3.9/site-packages (from spacy==2.2.4) (1.23.1)\n",
      "Collecting blis<0.5.0,>=0.4.0\n",
      "  Using cached blis-0.4.1-cp39-cp39-linux_x86_64.whl\n",
      "Requirement already satisfied: requests<3.0.0,>=2.13.0 in /home/ruizfabo/anaconda3/envs/py39deezy/lib/python3.9/site-packages (from spacy==2.2.4) (2.28.1)\n",
      "Requirement already satisfied: cymem<2.1.0,>=2.0.2 in /home/ruizfabo/anaconda3/envs/py39deezy/lib/python3.9/site-packages (from spacy==2.2.4) (2.0.7)\n",
      "Requirement already satisfied: murmurhash<1.1.0,>=0.28.0 in /home/ruizfabo/anaconda3/envs/py39deezy/lib/python3.9/site-packages (from spacy==2.2.4) (1.0.9)\n",
      "Requirement already satisfied: plac<1.2.0,>=0.9.6 in /home/ruizfabo/anaconda3/envs/py39deezy/lib/python3.9/site-packages (from spacy==2.2.4) (1.1.3)\n",
      "Requirement already satisfied: setuptools in /home/ruizfabo/anaconda3/envs/py39deezy/lib/python3.9/site-packages (from spacy==2.2.4) (61.2.0)\n",
      "Collecting thinc==7.4.0\n",
      "  Using cached thinc-7.4.0-cp39-cp39-linux_x86_64.whl\n",
      "Collecting srsly<1.1.0,>=1.0.2\n",
      "  Using cached srsly-1.0.6-cp39-cp39-manylinux_2_17_x86_64.manylinux2014_x86_64.whl (209 kB)\n",
      "Collecting catalogue<1.1.0,>=0.0.7\n",
      "  Using cached catalogue-1.0.2-py2.py3-none-any.whl (16 kB)\n",
      "Requirement already satisfied: tqdm<5.0.0,>=4.38.0 in /home/ruizfabo/anaconda3/envs/py39deezy/lib/python3.9/site-packages (from spacy==2.2.4) (4.64.0)\n",
      "Requirement already satisfied: preshed<3.1.0,>=3.0.2 in /home/ruizfabo/anaconda3/envs/py39deezy/lib/python3.9/site-packages (from spacy==2.2.4) (3.0.8)\n",
      "Requirement already satisfied: wasabi<1.1.0,>=0.4.0 in /home/ruizfabo/anaconda3/envs/py39deezy/lib/python3.9/site-packages (from spacy==2.2.4) (0.10.1)\n",
      "Requirement already satisfied: certifi>=2017.4.17 in /home/ruizfabo/anaconda3/envs/py39deezy/lib/python3.9/site-packages (from requests<3.0.0,>=2.13.0->spacy==2.2.4) (2022.6.15)\n",
      "Requirement already satisfied: charset-normalizer<3,>=2 in /home/ruizfabo/anaconda3/envs/py39deezy/lib/python3.9/site-packages (from requests<3.0.0,>=2.13.0->spacy==2.2.4) (2.1.0)\n",
      "Requirement already satisfied: idna<4,>=2.5 in /home/ruizfabo/anaconda3/envs/py39deezy/lib/python3.9/site-packages (from requests<3.0.0,>=2.13.0->spacy==2.2.4) (3.3)\n",
      "Requirement already satisfied: urllib3<1.27,>=1.21.1 in /home/ruizfabo/anaconda3/envs/py39deezy/lib/python3.9/site-packages (from requests<3.0.0,>=2.13.0->spacy==2.2.4) (1.26.11)\n",
      "Installing collected packages: srsly, catalogue, blis, thinc, spacy\n",
      "  Attempting uninstall: srsly\n",
      "    Found existing installation: srsly 2.4.5\n",
      "    Uninstalling srsly-2.4.5:\n",
      "      Successfully uninstalled srsly-2.4.5\n",
      "  Attempting uninstall: catalogue\n",
      "    Found existing installation: catalogue 2.0.8\n",
      "    Uninstalling catalogue-2.0.8:\n",
      "      Successfully uninstalled catalogue-2.0.8\n",
      "  Attempting uninstall: blis\n",
      "    Found existing installation: blis 0.7.9\n",
      "    Uninstalling blis-0.7.9:\n",
      "      Successfully uninstalled blis-0.7.9\n",
      "  Attempting uninstall: thinc\n",
      "    Found existing installation: thinc 8.1.6\n",
      "    Uninstalling thinc-8.1.6:\n",
      "      Successfully uninstalled thinc-8.1.6\n",
      "  Attempting uninstall: spacy\n",
      "    Found existing installation: spacy 3.4.4\n",
      "    Uninstalling spacy-3.4.4:\n",
      "      Successfully uninstalled spacy-3.4.4\n",
      "\u001b[31mERROR: pip's dependency resolver does not currently take into account all the packages that are installed. This behaviour is the source of the following dependency conflicts.\n",
      "es-core-news-md 3.4.0 requires spacy<3.5.0,>=3.4.0, but you have spacy 2.2.4 which is incompatible.\n",
      "confection 0.0.3 requires srsly<3.0.0,>=2.4.0, but you have srsly 1.0.6 which is incompatible.\u001b[0m\u001b[31m\n",
      "\u001b[0mSuccessfully installed blis-0.4.1 catalogue-1.0.2 spacy-2.2.4 srsly-1.0.6 thinc-7.4.0\n"
     ]
    }
   ],
   "source": [
    "!pip install -U spacy==2.2.4"
   ]
  },
  {
   "cell_type": "markdown",
   "metadata": {},
   "source": [
    "Los recursos de spaCy para ciertos análisis son específicos a cada lengua. Debemos descargar un modelo (conjunto de recursos) para español. Este modelo debe ser compatible con la versión 2.2.4 de spaCy. La instrucción para descargarlo es la siguiente. Esta instrucción no es la que se usa para descargar el último modelo de spaCy para español (`!python -m spacy download es_core_news_md`), sino una instrución usada para instalar una versión específica del modelo."
   ]
  },
  {
   "cell_type": "code",
   "execution_count": 8,
   "metadata": {},
   "outputs": [
    {
     "name": "stdout",
     "output_type": "stream",
     "text": [
      "Collecting https://github.com/explosion/spacy-models/releases/download/es_core_news_md-2.3.1/es_core_news_md-2.3.1.tar.gz\n",
      "  Downloading https://github.com/explosion/spacy-models/releases/download/es_core_news_md-2.3.1/es_core_news_md-2.3.1.tar.gz (47.4 MB)\n",
      "\u001b[2K     \u001b[38;2;114;156;31m━━━━━━━━━━━━━━━━━━━━━━━━━━━━━━━━━━━━━━━━\u001b[0m \u001b[32m47.4/47.4 MB\u001b[0m \u001b[31m1.4 MB/s\u001b[0m eta \u001b[36m0:00:00\u001b[0mm eta \u001b[36m0:00:01\u001b[0m[36m0:00:01\u001b[0m\n",
      "\u001b[?25h  Preparing metadata (setup.py) ... \u001b[?25ldone\n",
      "\u001b[?25hCollecting spacy<2.4.0,>=2.3.0\n",
      "  Downloading spacy-2.3.9-cp39-cp39-manylinux_2_17_x86_64.manylinux2014_x86_64.whl (4.9 MB)\n",
      "\u001b[2K     \u001b[38;2;114;156;31m━━━━━━━━━━━━━━━━━━━━━━━━━━━━━━━━━━━━━━━━\u001b[0m \u001b[32m4.9/4.9 MB\u001b[0m \u001b[31m602.4 kB/s\u001b[0m eta \u001b[36m0:00:00\u001b[0mm eta \u001b[36m0:00:01\u001b[0m[36m0:00:01\u001b[0m\n",
      "\u001b[?25hRequirement already satisfied: requests<3.0.0,>=2.13.0 in /home/ruizfabo/anaconda3/envs/py39deezy/lib/python3.9/site-packages (from spacy<2.4.0,>=2.3.0->es-core-news-md==2.3.1) (2.28.1)\n",
      "Requirement already satisfied: tqdm<5.0.0,>=4.38.0 in /home/ruizfabo/anaconda3/envs/py39deezy/lib/python3.9/site-packages (from spacy<2.4.0,>=2.3.0->es-core-news-md==2.3.1) (4.64.0)\n",
      "Requirement already satisfied: plac<1.2.0,>=0.9.6 in /home/ruizfabo/anaconda3/envs/py39deezy/lib/python3.9/site-packages (from spacy<2.4.0,>=2.3.0->es-core-news-md==2.3.1) (1.1.3)\n",
      "Collecting thinc<7.5.0,>=7.4.1\n",
      "  Downloading thinc-7.4.6-cp39-cp39-manylinux_2_17_x86_64.manylinux2014_x86_64.whl (1.1 MB)\n",
      "\u001b[2K     \u001b[38;2;114;156;31m━━━━━━━━━━━━━━━━━━━━━━━━━━━━━━━━━━━━━━━━\u001b[0m \u001b[32m1.1/1.1 MB\u001b[0m \u001b[31m3.6 MB/s\u001b[0m eta \u001b[36m0:00:00\u001b[0mm eta \u001b[36m0:00:01\u001b[0m[36m0:00:01\u001b[0m\n",
      "\u001b[?25hRequirement already satisfied: cymem<2.1.0,>=2.0.2 in /home/ruizfabo/anaconda3/envs/py39deezy/lib/python3.9/site-packages (from spacy<2.4.0,>=2.3.0->es-core-news-md==2.3.1) (2.0.7)\n",
      "Requirement already satisfied: catalogue<1.1.0,>=0.0.7 in /home/ruizfabo/anaconda3/envs/py39deezy/lib/python3.9/site-packages (from spacy<2.4.0,>=2.3.0->es-core-news-md==2.3.1) (1.0.2)\n",
      "Requirement already satisfied: setuptools in /home/ruizfabo/anaconda3/envs/py39deezy/lib/python3.9/site-packages (from spacy<2.4.0,>=2.3.0->es-core-news-md==2.3.1) (61.2.0)\n",
      "Requirement already satisfied: srsly<1.1.0,>=1.0.2 in /home/ruizfabo/anaconda3/envs/py39deezy/lib/python3.9/site-packages (from spacy<2.4.0,>=2.3.0->es-core-news-md==2.3.1) (1.0.6)\n",
      "Requirement already satisfied: wasabi<1.1.0,>=0.4.0 in /home/ruizfabo/anaconda3/envs/py39deezy/lib/python3.9/site-packages (from spacy<2.4.0,>=2.3.0->es-core-news-md==2.3.1) (0.10.1)\n",
      "Requirement already satisfied: murmurhash<1.1.0,>=0.28.0 in /home/ruizfabo/anaconda3/envs/py39deezy/lib/python3.9/site-packages (from spacy<2.4.0,>=2.3.0->es-core-news-md==2.3.1) (1.0.9)\n",
      "Requirement already satisfied: numpy>=1.15.0 in /home/ruizfabo/anaconda3/envs/py39deezy/lib/python3.9/site-packages (from spacy<2.4.0,>=2.3.0->es-core-news-md==2.3.1) (1.23.1)\n",
      "Requirement already satisfied: preshed<3.1.0,>=3.0.2 in /home/ruizfabo/anaconda3/envs/py39deezy/lib/python3.9/site-packages (from spacy<2.4.0,>=2.3.0->es-core-news-md==2.3.1) (3.0.8)\n",
      "Requirement already satisfied: blis<0.8.0,>=0.4.0 in /home/ruizfabo/anaconda3/envs/py39deezy/lib/python3.9/site-packages (from spacy<2.4.0,>=2.3.0->es-core-news-md==2.3.1) (0.4.1)\n",
      "Requirement already satisfied: charset-normalizer<3,>=2 in /home/ruizfabo/anaconda3/envs/py39deezy/lib/python3.9/site-packages (from requests<3.0.0,>=2.13.0->spacy<2.4.0,>=2.3.0->es-core-news-md==2.3.1) (2.1.0)\n",
      "Requirement already satisfied: certifi>=2017.4.17 in /home/ruizfabo/anaconda3/envs/py39deezy/lib/python3.9/site-packages (from requests<3.0.0,>=2.13.0->spacy<2.4.0,>=2.3.0->es-core-news-md==2.3.1) (2022.6.15)\n",
      "Requirement already satisfied: urllib3<1.27,>=1.21.1 in /home/ruizfabo/anaconda3/envs/py39deezy/lib/python3.9/site-packages (from requests<3.0.0,>=2.13.0->spacy<2.4.0,>=2.3.0->es-core-news-md==2.3.1) (1.26.11)\n",
      "Requirement already satisfied: idna<4,>=2.5 in /home/ruizfabo/anaconda3/envs/py39deezy/lib/python3.9/site-packages (from requests<3.0.0,>=2.13.0->spacy<2.4.0,>=2.3.0->es-core-news-md==2.3.1) (3.3)\n",
      "Building wheels for collected packages: es-core-news-md\n",
      "  Building wheel for es-core-news-md (setup.py) ... \u001b[?25ldone\n",
      "\u001b[?25h  Created wheel for es-core-news-md: filename=es_core_news_md-2.3.1-py3-none-any.whl size=47447384 sha256=c8f643f49a194636f89055d15882fa364594c893c838901e7bfcc5643d4086e6\n",
      "  Stored in directory: /home/ruizfabo/.cache/pip/wheels/ac/9e/58/009b585ec547a0666c0e72e44c39f42a8660fdeccd02803652\n",
      "Successfully built es-core-news-md\n",
      "Installing collected packages: thinc, spacy, es-core-news-md\n",
      "  Attempting uninstall: thinc\n",
      "    Found existing installation: thinc 7.4.0\n",
      "    Uninstalling thinc-7.4.0:\n",
      "      Successfully uninstalled thinc-7.4.0\n",
      "  Attempting uninstall: spacy\n",
      "    Found existing installation: spacy 2.2.4\n",
      "    Uninstalling spacy-2.2.4:\n",
      "      Successfully uninstalled spacy-2.2.4\n",
      "  Attempting uninstall: es-core-news-md\n",
      "    Found existing installation: es-core-news-md 3.4.0\n",
      "    Uninstalling es-core-news-md-3.4.0:\n",
      "      Successfully uninstalled es-core-news-md-3.4.0\n",
      "\u001b[31mERROR: pip's dependency resolver does not currently take into account all the packages that are installed. This behaviour is the source of the following dependency conflicts.\n",
      "rantanplan 0.7.1 requires spacy==2.2.4, but you have spacy 2.3.9 which is incompatible.\u001b[0m\u001b[31m\n",
      "\u001b[0mSuccessfully installed es-core-news-md-2.3.1 spacy-2.3.9 thinc-7.4.6\n"
     ]
    }
   ],
   "source": [
    "!pip install -U https://github.com/explosion/spacy-models/releases/download/es_core_news_md-2.3.1/es_core_news_md-2.3.1.tar.gz"
   ]
  },
  {
   "cell_type": "markdown",
   "metadata": {},
   "source": [
    "También hay que instalar el módulo `spacy_affixes` para español, utilizado en algunos análisis."
   ]
  },
  {
   "cell_type": "code",
   "execution_count": 15,
   "metadata": {},
   "outputs": [
    {
     "name": "stdout",
     "output_type": "stream",
     "text": [
      "/home/ruizfabo/anaconda3/envs/py39deezy/lib/python3.9/site-packages/torch/cuda/__init__.py:83: UserWarning: CUDA initialization: The NVIDIA driver on your system is too old (found version 9010). Please update your GPU driver by downloading and installing a new version from the URL: http://www.nvidia.com/Download/index.aspx Alternatively, go to: https://pytorch.org to install a PyTorch version that has been compiled with your version of the CUDA driver. (Triggered internally at  ../c10/cuda/CUDAFunctions.cpp:109.)\n",
      "  return torch._C._cuda_getDeviceCount() > 0\n",
      "Downloading affixes es-4.1...\n",
      "Downloading lexicon es-4.1...\n"
     ]
    }
   ],
   "source": [
    "!python -m spacy_affixes download es"
   ]
  },
  {
   "cell_type": "markdown",
   "metadata": {},
   "source": [
    "<a name=\"instalar-rantanplan\"></a>\n",
    "\n",
    "## Instalar Rantanplan"
   ]
  },
  {
   "cell_type": "markdown",
   "metadata": {},
   "source": [
    "Una vez que spaCy está listo, se puede instalar Rantanplan"
   ]
  },
  {
   "cell_type": "code",
   "execution_count": 3,
   "metadata": {},
   "outputs": [
    {
     "name": "stdout",
     "output_type": "stream",
     "text": [
      "Collecting rantanplan\n",
      "  Using cached rantanplan-0.7.1.tar.gz (807 kB)\n",
      "  Preparing metadata (setup.py) ... \u001b[?25ldone\n",
      "\u001b[?25hRequirement already satisfied: Click>=7.0 in /home/ruizfabo/anaconda3/envs/py39deezy/lib/python3.9/site-packages (from rantanplan) (8.1.3)\n",
      "Requirement already satisfied: spacy==2.2.4 in /home/ruizfabo/anaconda3/envs/py39deezy/lib/python3.9/site-packages (from rantanplan) (2.2.4)\n",
      "Requirement already satisfied: spacy-affixes>=0.1.4 in /home/ruizfabo/anaconda3/envs/py39deezy/lib/python3.9/site-packages (from rantanplan) (0.1.4)\n",
      "Requirement already satisfied: requests<3.0.0,>=2.13.0 in /home/ruizfabo/anaconda3/envs/py39deezy/lib/python3.9/site-packages (from spacy==2.2.4->rantanplan) (2.28.1)\n",
      "Requirement already satisfied: tqdm<5.0.0,>=4.38.0 in /home/ruizfabo/anaconda3/envs/py39deezy/lib/python3.9/site-packages (from spacy==2.2.4->rantanplan) (4.64.0)\n",
      "Requirement already satisfied: blis<0.5.0,>=0.4.0 in /home/ruizfabo/anaconda3/envs/py39deezy/lib/python3.9/site-packages (from spacy==2.2.4->rantanplan) (0.4.1)\n",
      "Requirement already satisfied: preshed<3.1.0,>=3.0.2 in /home/ruizfabo/anaconda3/envs/py39deezy/lib/python3.9/site-packages (from spacy==2.2.4->rantanplan) (3.0.8)\n",
      "Requirement already satisfied: wasabi<1.1.0,>=0.4.0 in /home/ruizfabo/anaconda3/envs/py39deezy/lib/python3.9/site-packages (from spacy==2.2.4->rantanplan) (0.10.1)\n",
      "Requirement already satisfied: numpy>=1.15.0 in /home/ruizfabo/anaconda3/envs/py39deezy/lib/python3.9/site-packages (from spacy==2.2.4->rantanplan) (1.23.1)\n",
      "Requirement already satisfied: plac<1.2.0,>=0.9.6 in /home/ruizfabo/anaconda3/envs/py39deezy/lib/python3.9/site-packages (from spacy==2.2.4->rantanplan) (1.1.3)\n",
      "Requirement already satisfied: thinc==7.4.0 in /home/ruizfabo/anaconda3/envs/py39deezy/lib/python3.9/site-packages (from spacy==2.2.4->rantanplan) (7.4.0)\n",
      "Requirement already satisfied: srsly<1.1.0,>=1.0.2 in /home/ruizfabo/anaconda3/envs/py39deezy/lib/python3.9/site-packages (from spacy==2.2.4->rantanplan) (1.0.6)\n",
      "Requirement already satisfied: cymem<2.1.0,>=2.0.2 in /home/ruizfabo/anaconda3/envs/py39deezy/lib/python3.9/site-packages (from spacy==2.2.4->rantanplan) (2.0.7)\n",
      "Requirement already satisfied: setuptools in /home/ruizfabo/anaconda3/envs/py39deezy/lib/python3.9/site-packages (from spacy==2.2.4->rantanplan) (61.2.0)\n",
      "Requirement already satisfied: catalogue<1.1.0,>=0.0.7 in /home/ruizfabo/anaconda3/envs/py39deezy/lib/python3.9/site-packages (from spacy==2.2.4->rantanplan) (1.0.2)\n",
      "Requirement already satisfied: murmurhash<1.1.0,>=0.28.0 in /home/ruizfabo/anaconda3/envs/py39deezy/lib/python3.9/site-packages (from spacy==2.2.4->rantanplan) (1.0.9)\n",
      "Requirement already satisfied: charset-normalizer<3,>=2 in /home/ruizfabo/anaconda3/envs/py39deezy/lib/python3.9/site-packages (from requests<3.0.0,>=2.13.0->spacy==2.2.4->rantanplan) (2.1.0)\n",
      "Requirement already satisfied: certifi>=2017.4.17 in /home/ruizfabo/anaconda3/envs/py39deezy/lib/python3.9/site-packages (from requests<3.0.0,>=2.13.0->spacy==2.2.4->rantanplan) (2022.6.15)\n",
      "Requirement already satisfied: idna<4,>=2.5 in /home/ruizfabo/anaconda3/envs/py39deezy/lib/python3.9/site-packages (from requests<3.0.0,>=2.13.0->spacy==2.2.4->rantanplan) (3.3)\n",
      "Requirement already satisfied: urllib3<1.27,>=1.21.1 in /home/ruizfabo/anaconda3/envs/py39deezy/lib/python3.9/site-packages (from requests<3.0.0,>=2.13.0->spacy==2.2.4->rantanplan) (1.26.11)\n",
      "Building wheels for collected packages: rantanplan\n",
      "  Building wheel for rantanplan (setup.py) ... \u001b[?25ldone\n",
      "\u001b[?25h  Created wheel for rantanplan: filename=rantanplan-0.7.1-py2.py3-none-any.whl size=42519 sha256=e91cf67187b97211fba72e7ac3cff6dded6bfad9c68825bd82ea53004521292c\n",
      "  Stored in directory: /home/ruizfabo/.cache/pip/wheels/45/5a/b5/1cbd3e5fb214b0e5f88ed4f73ac82c2e4f86d6032ae3635314\n",
      "Successfully built rantanplan\n",
      "Installing collected packages: rantanplan\n",
      "Successfully installed rantanplan-0.7.1\n"
     ]
    }
   ],
   "source": [
    "!pip install rantanplan"
   ]
  },
  {
   "cell_type": "markdown",
   "metadata": {},
   "source": [
    "<a name=\"escansion-rantanplan\"></a>\n",
    "\n",
    "## Aplicar Rantanplan para la escansión"
   ]
  },
  {
   "cell_type": "markdown",
   "metadata": {},
   "source": [
    "Una vez que Rantanplan está instalado lo podemos usar para la escansión. Damos primero un ejemplo de código completo para obtener y mostrar en pantalla los patrones métricos de cada verso de un poema.\n",
    "\n",
    "Después se explica el código paso a paso así como varias maneras de aumentar la legibilidad de los resultados (p. ej. expresar los patrones métricos como cifras en vez de con el formato por defecto que usa signos *más* y *menos* para las sílabas métricas tónicas y átonas)."
   ]
  },
  {
   "cell_type": "code",
   "execution_count": 77,
   "metadata": {},
   "outputs": [
    {
     "name": "stdout",
     "output_type": "stream",
     "text": [
      "+--+---+-+-\n",
      "-+-+-+---+-\n",
      "+--+---+-+-\n",
      "--+--+--++-\n",
      "+--+---+-+-\n",
      "-+-+-+---+-\n",
      "---+-+--++-\n",
      "++-+-+---+-\n",
      "+-+--+-+-+-\n",
      "+-+--+++-+-\n",
      "+--+---+-+-\n",
      "--+--+-+-+-\n",
      "--+--++--+-\n",
      "-+-+-+---+-\n"
     ]
    }
   ],
   "source": [
    "import rantanplan\n",
    "from rantanplan.core import get_scansion\n",
    "\n",
    "texto_poema = \"\"\"Rosas sangrantes sobre el mar desflora\n",
    "el sol que dice adioses en la tarde,\n",
    "riman las aguas su canción sonora,\n",
    "bajo nubes de fuego el poniente arde.\n",
    "\n",
    "Vibran las cañas al chocar del viento,\n",
    "formando extraña y triste sinfonía,\n",
    "y la palmera altiva en vaivén lento\n",
    "es una glauca nota de armonía.\n",
    "\n",
    "Una barca se aleja lentamente,\n",
    "una estela de luz, un vago canto,\n",
    "sombras que pasan sobre el quieto mar;\n",
    "\n",
    "Y las horas se van pausadamente,\n",
    "mientras vierte la luz su último encanto\n",
    "en un intenso, pálido llamear.\"\"\"\n",
    "\n",
    "resultado = get_scansion(texto_poema)\n",
    "for verso in resultado:\n",
    "    escansion = verso[\"rhythm\"][\"stress\"]\n",
    "    print(escansion)\n"
   ]
  },
  {
   "cell_type": "markdown",
   "metadata": {},
   "source": [
    "Primero debemos importar los módulos necesarios:\n",
    "\n",
    "- `rantanplan`: la herramienta de escansión\n",
    "- `get_scansion`: la función que efectúa la escansión, que se encuentra en el paquete `rantanplan.core` de `rantanplan`"
   ]
  },
  {
   "cell_type": "code",
   "execution_count": 1,
   "metadata": {},
   "outputs": [],
   "source": [
    "import rantanplan\n",
    "from rantanplan.core import get_scansion"
   ]
  },
  {
   "cell_type": "markdown",
   "metadata": {},
   "source": [
    "Declaramos una variable y le asignamos como valor la cadena de texto que representa el poema. La variable se ha llamado aquí `texto_poema`, pero podría usarse cualquier otro nombre que respete las [reglas de nombrado de variables](https://es.py4e.com/html3/02-variables) en el lenguaje Python.\n",
    "\n",
    "El valor de `texto_poema` es una cadena de texto (tipo `str` en Python). Se ha escrito entre triples comillas, porque las triples comillas (o triple apóstrofe) permite que la cadena de texto tenga saltos de línea. En el poema cada verso empieza en su propia línea, es decir, va precedido de un salto de línea. Con las triples comillas, Python entiende que la cadena de texto sigue aunque contenga un salto de línea. "
   ]
  },
  {
   "cell_type": "code",
   "execution_count": 2,
   "metadata": {},
   "outputs": [],
   "source": [
    "texto_poema = \"\"\"Rosas sangrantes sobre el mar desflora\n",
    "el sol que dice adioses en la tarde,\n",
    "riman las aguas su canción sonora,\n",
    "bajo nubes de fuego el poniente arde.\n",
    "\n",
    "Vibran las cañas al chocar del viento,\n",
    "formando extraña y triste sinfonía,\n",
    "y la palmera altiva en vaivén lento\n",
    "es una glauca nota de armonía.\n",
    "\n",
    "Una barca se aleja lentamente,\n",
    "una estela de luz, un vago canto,\n",
    "sombras que pasan sobre el quieto mar;\n",
    "\n",
    "Y las horas se van pausadamente,\n",
    "mientras vierte la luz su último encanto\n",
    "en un intenso, pálido llamear.\"\"\""
   ]
  },
  {
   "cell_type": "markdown",
   "metadata": {},
   "source": [
    "Para obtener la escansión, debemos aplicar la función `get_scansion()`. Ésta toma como argumento una cadena de texto. Los argumentos son los valores sobre los cuales la función opera, que se le dan entre los paréntesis, separados por comas. En este caso tenemos ya una variable, llamada texto_poema, con la cadena de texto, con lo que se pasa esta variable como argumento a la función.\n",
    "\n",
    "Se ha asignado el valor del resultado a una variable, aquí llamada `resultado`. De este modo podemos reutilizar este resultado de la escansión, a través de la variable. "
   ]
  },
  {
   "cell_type": "code",
   "execution_count": 3,
   "metadata": {},
   "outputs": [],
   "source": [
    "resultado = get_scansion(texto_poema)"
   ]
  },
  {
   "cell_type": "markdown",
   "metadata": {},
   "source": [
    "Para ver el valor de una variable, podemos escribir el nombre de esta. Escribiendo `resultado` vemos lo que Rantanplan ha anotado para el poema. Se explica a continuación la información proporcionada por Rantanplan y cómo extaerla para análisis posteriores."
   ]
  },
  {
   "cell_type": "code",
   "execution_count": 4,
   "metadata": {},
   "outputs": [
    {
     "data": {
      "text/plain": [
       "[{'tokens': [{'word': [{'syllable': 'Ro', 'is_stressed': True},\n",
       "     {'syllable': 'sas', 'is_stressed': False, 'is_word_end': True}],\n",
       "    'stress_position': -2},\n",
       "   {'word': [{'syllable': 'san', 'is_stressed': False},\n",
       "     {'syllable': 'gran', 'is_stressed': True},\n",
       "     {'syllable': 'tes', 'is_stressed': False, 'is_word_end': True}],\n",
       "    'stress_position': -2},\n",
       "   {'word': [{'syllable': 'so', 'is_stressed': False},\n",
       "     {'syllable': 'bre',\n",
       "      'is_stressed': False,\n",
       "      'has_synalepha': True,\n",
       "      'is_word_end': True}],\n",
       "    'stress_position': 0},\n",
       "   {'word': [{'syllable': 'el', 'is_stressed': False, 'is_word_end': True}],\n",
       "    'stress_position': 0},\n",
       "   {'word': [{'syllable': 'mar', 'is_stressed': True, 'is_word_end': True}],\n",
       "    'stress_position': -1},\n",
       "   {'word': [{'syllable': 'des', 'is_stressed': False},\n",
       "     {'syllable': 'flo', 'is_stressed': True},\n",
       "     {'syllable': 'ra', 'is_stressed': False, 'is_word_end': True}],\n",
       "    'stress_position': -2}],\n",
       "  'phonological_groups': [{'syllable': 'Ro', 'is_stressed': True},\n",
       "   {'syllable': 'sas', 'is_stressed': False, 'is_word_end': True},\n",
       "   {'syllable': 'san', 'is_stressed': False},\n",
       "   {'syllable': 'gran', 'is_stressed': True},\n",
       "   {'syllable': 'tes', 'is_stressed': False, 'is_word_end': True},\n",
       "   {'syllable': 'so', 'is_stressed': False},\n",
       "   {'syllable': 'breel',\n",
       "    'is_stressed': False,\n",
       "    'synalepha_index': [2],\n",
       "    'is_word_end': True},\n",
       "   {'syllable': 'mar', 'is_stressed': True, 'is_word_end': True},\n",
       "   {'syllable': 'des', 'is_stressed': False},\n",
       "   {'syllable': 'flo', 'is_stressed': True},\n",
       "   {'syllable': 'ra', 'is_stressed': False, 'is_word_end': True}],\n",
       "  'rhythm': {'stress': '+--+---+-+-', 'type': 'pattern', 'length': 11}},\n",
       " {'tokens': [{'word': [{'syllable': 'el',\n",
       "      'is_stressed': False,\n",
       "      'is_word_end': True}],\n",
       "    'stress_position': 0},\n",
       "   {'word': [{'syllable': 'sol', 'is_stressed': True, 'is_word_end': True}],\n",
       "    'stress_position': -1},\n",
       "   {'word': [{'syllable': 'que', 'is_stressed': False, 'is_word_end': True}],\n",
       "    'stress_position': 0},\n",
       "   {'word': [{'syllable': 'di', 'is_stressed': True},\n",
       "     {'syllable': 'ce',\n",
       "      'is_stressed': False,\n",
       "      'has_synalepha': True,\n",
       "      'is_word_end': True}],\n",
       "    'stress_position': -2},\n",
       "   {'word': [{'syllable': 'a', 'is_stressed': False},\n",
       "     {'syllable': 'dio', 'is_stressed': True},\n",
       "     {'syllable': 'ses', 'is_stressed': False, 'is_word_end': True}],\n",
       "    'stress_position': -2},\n",
       "   {'word': [{'syllable': 'en', 'is_stressed': False, 'is_word_end': True}],\n",
       "    'stress_position': 0},\n",
       "   {'word': [{'syllable': 'la', 'is_stressed': False, 'is_word_end': True}],\n",
       "    'stress_position': 0},\n",
       "   {'word': [{'syllable': 'tar', 'is_stressed': True},\n",
       "     {'syllable': 'de', 'is_stressed': False, 'is_word_end': True}],\n",
       "    'stress_position': -2},\n",
       "   {'symbol': ','}],\n",
       "  'phonological_groups': [{'syllable': 'el',\n",
       "    'is_stressed': False,\n",
       "    'is_word_end': True},\n",
       "   {'syllable': 'sol', 'is_stressed': True, 'is_word_end': True},\n",
       "   {'syllable': 'que', 'is_stressed': False, 'is_word_end': True},\n",
       "   {'syllable': 'di', 'is_stressed': True},\n",
       "   {'syllable': 'cea', 'is_stressed': False, 'synalepha_index': [1]},\n",
       "   {'syllable': 'dio', 'is_stressed': True},\n",
       "   {'syllable': 'ses', 'is_stressed': False, 'is_word_end': True},\n",
       "   {'syllable': 'en', 'is_stressed': False, 'is_word_end': True},\n",
       "   {'syllable': 'la', 'is_stressed': False, 'is_word_end': True},\n",
       "   {'syllable': 'tar', 'is_stressed': True},\n",
       "   {'syllable': 'de', 'is_stressed': False, 'is_word_end': True}],\n",
       "  'rhythm': {'stress': '-+-+-+---+-', 'type': 'pattern', 'length': 11}},\n",
       " {'tokens': [{'word': [{'syllable': 'ri', 'is_stressed': True},\n",
       "     {'syllable': 'man', 'is_stressed': False, 'is_word_end': True}],\n",
       "    'stress_position': -2},\n",
       "   {'word': [{'syllable': 'las', 'is_stressed': False, 'is_word_end': True}],\n",
       "    'stress_position': 0},\n",
       "   {'word': [{'syllable': 'a', 'is_stressed': True},\n",
       "     {'syllable': 'guas', 'is_stressed': False, 'is_word_end': True}],\n",
       "    'stress_position': -2},\n",
       "   {'word': [{'syllable': 'su', 'is_stressed': False, 'is_word_end': True}],\n",
       "    'stress_position': 0},\n",
       "   {'word': [{'syllable': 'can', 'is_stressed': False},\n",
       "     {'syllable': 'ción', 'is_stressed': True, 'is_word_end': True}],\n",
       "    'stress_position': -1},\n",
       "   {'word': [{'syllable': 'so', 'is_stressed': False},\n",
       "     {'syllable': 'no', 'is_stressed': True},\n",
       "     {'syllable': 'ra', 'is_stressed': False, 'is_word_end': True}],\n",
       "    'stress_position': -2},\n",
       "   {'symbol': ','}],\n",
       "  'phonological_groups': [{'syllable': 'ri', 'is_stressed': True},\n",
       "   {'syllable': 'man', 'is_stressed': False, 'is_word_end': True},\n",
       "   {'syllable': 'las', 'is_stressed': False, 'is_word_end': True},\n",
       "   {'syllable': 'a', 'is_stressed': True},\n",
       "   {'syllable': 'guas', 'is_stressed': False, 'is_word_end': True},\n",
       "   {'syllable': 'su', 'is_stressed': False, 'is_word_end': True},\n",
       "   {'syllable': 'can', 'is_stressed': False},\n",
       "   {'syllable': 'ción', 'is_stressed': True, 'is_word_end': True},\n",
       "   {'syllable': 'so', 'is_stressed': False},\n",
       "   {'syllable': 'no', 'is_stressed': True},\n",
       "   {'syllable': 'ra', 'is_stressed': False, 'is_word_end': True}],\n",
       "  'rhythm': {'stress': '+--+---+-+-', 'type': 'pattern', 'length': 11}},\n",
       " {'tokens': [{'word': [{'syllable': 'ba', 'is_stressed': False},\n",
       "     {'syllable': 'jo', 'is_stressed': False, 'is_word_end': True}],\n",
       "    'stress_position': 0},\n",
       "   {'word': [{'syllable': 'nu', 'is_stressed': True},\n",
       "     {'syllable': 'bes', 'is_stressed': False, 'is_word_end': True}],\n",
       "    'stress_position': -2},\n",
       "   {'word': [{'syllable': 'de', 'is_stressed': False, 'is_word_end': True}],\n",
       "    'stress_position': 0},\n",
       "   {'word': [{'syllable': 'fue', 'is_stressed': True},\n",
       "     {'syllable': 'go',\n",
       "      'is_stressed': False,\n",
       "      'has_synalepha': True,\n",
       "      'is_word_end': True}],\n",
       "    'stress_position': -2},\n",
       "   {'word': [{'syllable': 'el', 'is_stressed': False, 'is_word_end': True}],\n",
       "    'stress_position': 0},\n",
       "   {'word': [{'syllable': 'po', 'is_stressed': False},\n",
       "     {'syllable': 'nien', 'is_stressed': True},\n",
       "     {'syllable': 'te',\n",
       "      'is_stressed': False,\n",
       "      'has_synalepha': True,\n",
       "      'is_word_end': True}],\n",
       "    'stress_position': -2},\n",
       "   {'word': [{'syllable': 'ar', 'is_stressed': True},\n",
       "     {'syllable': 'de', 'is_stressed': False, 'is_word_end': True}],\n",
       "    'stress_position': -2},\n",
       "   {'symbol': '.'}],\n",
       "  'phonological_groups': [{'syllable': 'ba', 'is_stressed': False},\n",
       "   {'syllable': 'jo', 'is_stressed': False, 'is_word_end': True},\n",
       "   {'syllable': 'nu', 'is_stressed': True},\n",
       "   {'syllable': 'bes', 'is_stressed': False, 'is_word_end': True},\n",
       "   {'syllable': 'de', 'is_stressed': False, 'is_word_end': True},\n",
       "   {'syllable': 'fue', 'is_stressed': True},\n",
       "   {'syllable': 'goel',\n",
       "    'is_stressed': False,\n",
       "    'synalepha_index': [1],\n",
       "    'is_word_end': True},\n",
       "   {'syllable': 'po', 'is_stressed': False},\n",
       "   {'syllable': 'nien', 'is_stressed': True},\n",
       "   {'syllable': 'tear', 'is_stressed': True, 'synalepha_index': [1]},\n",
       "   {'syllable': 'de', 'is_stressed': False, 'is_word_end': True}],\n",
       "  'rhythm': {'stress': '--+--+--++-', 'type': 'pattern', 'length': 11}},\n",
       " {'tokens': [{'word': [{'syllable': 'Vi', 'is_stressed': True},\n",
       "     {'syllable': 'bran', 'is_stressed': False, 'is_word_end': True}],\n",
       "    'stress_position': -2},\n",
       "   {'word': [{'syllable': 'las', 'is_stressed': False, 'is_word_end': True}],\n",
       "    'stress_position': 0},\n",
       "   {'word': [{'syllable': 'ca', 'is_stressed': True},\n",
       "     {'syllable': 'ñas', 'is_stressed': False, 'is_word_end': True}],\n",
       "    'stress_position': -2},\n",
       "   {'word': [{'syllable': 'al', 'is_stressed': False, 'is_word_end': True}],\n",
       "    'stress_position': 0},\n",
       "   {'word': [{'syllable': 'cho', 'is_stressed': False},\n",
       "     {'syllable': 'car', 'is_stressed': True, 'is_word_end': True}],\n",
       "    'stress_position': -1},\n",
       "   {'word': [{'syllable': 'del', 'is_stressed': False, 'is_word_end': True}],\n",
       "    'stress_position': 0},\n",
       "   {'word': [{'syllable': 'vien', 'is_stressed': True},\n",
       "     {'syllable': 'to', 'is_stressed': False, 'is_word_end': True}],\n",
       "    'stress_position': -2},\n",
       "   {'symbol': ','}],\n",
       "  'phonological_groups': [{'syllable': 'Vi', 'is_stressed': True},\n",
       "   {'syllable': 'bran', 'is_stressed': False, 'is_word_end': True},\n",
       "   {'syllable': 'las', 'is_stressed': False, 'is_word_end': True},\n",
       "   {'syllable': 'ca', 'is_stressed': True},\n",
       "   {'syllable': 'ñas', 'is_stressed': False, 'is_word_end': True},\n",
       "   {'syllable': 'al', 'is_stressed': False, 'is_word_end': True},\n",
       "   {'syllable': 'cho', 'is_stressed': False},\n",
       "   {'syllable': 'car', 'is_stressed': True, 'is_word_end': True},\n",
       "   {'syllable': 'del', 'is_stressed': False, 'is_word_end': True},\n",
       "   {'syllable': 'vien', 'is_stressed': True},\n",
       "   {'syllable': 'to', 'is_stressed': False, 'is_word_end': True}],\n",
       "  'rhythm': {'stress': '+--+---+-+-', 'type': 'pattern', 'length': 11}},\n",
       " {'tokens': [{'word': [{'syllable': 'for', 'is_stressed': False},\n",
       "     {'syllable': 'man', 'is_stressed': True},\n",
       "     {'syllable': 'do',\n",
       "      'is_stressed': False,\n",
       "      'has_synalepha': True,\n",
       "      'is_word_end': True}],\n",
       "    'stress_position': -2},\n",
       "   {'word': [{'syllable': 'ex', 'is_stressed': False},\n",
       "     {'syllable': 'tra', 'is_stressed': True},\n",
       "     {'syllable': 'ña',\n",
       "      'is_stressed': False,\n",
       "      'has_synalepha': True,\n",
       "      'is_word_end': True}],\n",
       "    'stress_position': -2},\n",
       "   {'word': [{'syllable': 'y', 'is_stressed': False, 'is_word_end': True}],\n",
       "    'stress_position': 0},\n",
       "   {'word': [{'syllable': 'tris', 'is_stressed': True},\n",
       "     {'syllable': 'te', 'is_stressed': False, 'is_word_end': True}],\n",
       "    'stress_position': -2},\n",
       "   {'word': [{'syllable': 'sin', 'is_stressed': False},\n",
       "     {'syllable': 'fo', 'is_stressed': False},\n",
       "     {'syllable': 'ní', 'is_stressed': True, 'has_sinaeresis': True},\n",
       "     {'syllable': 'a', 'is_stressed': False, 'is_word_end': True}],\n",
       "    'stress_position': -2},\n",
       "   {'symbol': ','}],\n",
       "  'phonological_groups': [{'syllable': 'for', 'is_stressed': False},\n",
       "   {'syllable': 'man', 'is_stressed': True},\n",
       "   {'syllable': 'doex', 'is_stressed': False, 'synalepha_index': [1]},\n",
       "   {'syllable': 'tra', 'is_stressed': True},\n",
       "   {'syllable': 'ñay',\n",
       "    'is_stressed': False,\n",
       "    'synalepha_index': [1],\n",
       "    'is_word_end': True},\n",
       "   {'syllable': 'tris', 'is_stressed': True},\n",
       "   {'syllable': 'te', 'is_stressed': False, 'is_word_end': True},\n",
       "   {'syllable': 'sin', 'is_stressed': False},\n",
       "   {'syllable': 'fo', 'is_stressed': False},\n",
       "   {'syllable': 'nía',\n",
       "    'is_stressed': True,\n",
       "    'sinaeresis_index': [1],\n",
       "    'is_word_end': True}],\n",
       "  'rhythm': {'stress': '-+-+-+---+-', 'type': 'pattern', 'length': 11}},\n",
       " {'tokens': [{'word': [{'syllable': 'y',\n",
       "      'is_stressed': False,\n",
       "      'is_word_end': True}],\n",
       "    'stress_position': 0},\n",
       "   {'word': [{'syllable': 'la', 'is_stressed': False, 'is_word_end': True}],\n",
       "    'stress_position': 0},\n",
       "   {'word': [{'syllable': 'pal', 'is_stressed': False},\n",
       "     {'syllable': 'me', 'is_stressed': True},\n",
       "     {'syllable': 'ra',\n",
       "      'is_stressed': False,\n",
       "      'has_synalepha': True,\n",
       "      'is_word_end': True}],\n",
       "    'stress_position': -2},\n",
       "   {'word': [{'syllable': 'al', 'is_stressed': False},\n",
       "     {'syllable': 'ti', 'is_stressed': True},\n",
       "     {'syllable': 'va',\n",
       "      'is_stressed': False,\n",
       "      'has_synalepha': True,\n",
       "      'is_word_end': True}],\n",
       "    'stress_position': -2},\n",
       "   {'word': [{'syllable': 'en', 'is_stressed': False, 'is_word_end': True}],\n",
       "    'stress_position': 0},\n",
       "   {'word': [{'syllable': 'vai', 'is_stressed': False},\n",
       "     {'syllable': 'vén', 'is_stressed': True, 'is_word_end': True}],\n",
       "    'stress_position': -1},\n",
       "   {'word': [{'syllable': 'len', 'is_stressed': True},\n",
       "     {'syllable': 'to', 'is_stressed': False, 'is_word_end': True}],\n",
       "    'stress_position': -2}],\n",
       "  'phonological_groups': [{'syllable': 'y',\n",
       "    'is_stressed': False,\n",
       "    'is_word_end': True},\n",
       "   {'syllable': 'la', 'is_stressed': False, 'is_word_end': True},\n",
       "   {'syllable': 'pal', 'is_stressed': False},\n",
       "   {'syllable': 'me', 'is_stressed': True},\n",
       "   {'syllable': 'raal', 'is_stressed': False, 'synalepha_index': [1]},\n",
       "   {'syllable': 'ti', 'is_stressed': True},\n",
       "   {'syllable': 'vaen',\n",
       "    'is_stressed': False,\n",
       "    'synalepha_index': [1],\n",
       "    'is_word_end': True},\n",
       "   {'syllable': 'vai', 'is_stressed': False},\n",
       "   {'syllable': 'vén', 'is_stressed': True, 'is_word_end': True},\n",
       "   {'syllable': 'len', 'is_stressed': True},\n",
       "   {'syllable': 'to', 'is_stressed': False, 'is_word_end': True}],\n",
       "  'rhythm': {'stress': '---+-+--++-', 'type': 'pattern', 'length': 11}},\n",
       " {'tokens': [{'word': [{'syllable': 'es',\n",
       "      'is_stressed': True,\n",
       "      'is_word_end': True}],\n",
       "    'stress_position': -1},\n",
       "   {'word': [{'syllable': 'u', 'is_stressed': True},\n",
       "     {'syllable': 'na', 'is_stressed': False, 'is_word_end': True}],\n",
       "    'stress_position': -2},\n",
       "   {'word': [{'syllable': 'glau', 'is_stressed': True},\n",
       "     {'syllable': 'ca', 'is_stressed': False, 'is_word_end': True}],\n",
       "    'stress_position': -2},\n",
       "   {'word': [{'syllable': 'no', 'is_stressed': True},\n",
       "     {'syllable': 'ta', 'is_stressed': False, 'is_word_end': True}],\n",
       "    'stress_position': -2},\n",
       "   {'word': [{'syllable': 'de',\n",
       "      'is_stressed': False,\n",
       "      'has_synalepha': True,\n",
       "      'is_word_end': True}],\n",
       "    'stress_position': 0},\n",
       "   {'word': [{'syllable': 'ar', 'is_stressed': False},\n",
       "     {'syllable': 'mo', 'is_stressed': False},\n",
       "     {'syllable': 'ní', 'is_stressed': True, 'has_sinaeresis': True},\n",
       "     {'syllable': 'a', 'is_stressed': False, 'is_word_end': True}],\n",
       "    'stress_position': -2},\n",
       "   {'symbol': '.'}],\n",
       "  'phonological_groups': [{'syllable': 'es',\n",
       "    'is_stressed': True,\n",
       "    'is_word_end': True},\n",
       "   {'syllable': 'u', 'is_stressed': True},\n",
       "   {'syllable': 'na', 'is_stressed': False, 'is_word_end': True},\n",
       "   {'syllable': 'glau', 'is_stressed': True},\n",
       "   {'syllable': 'ca', 'is_stressed': False, 'is_word_end': True},\n",
       "   {'syllable': 'no', 'is_stressed': True},\n",
       "   {'syllable': 'ta', 'is_stressed': False, 'is_word_end': True},\n",
       "   {'syllable': 'dear', 'is_stressed': False, 'synalepha_index': [1]},\n",
       "   {'syllable': 'mo', 'is_stressed': False},\n",
       "   {'syllable': 'nía',\n",
       "    'is_stressed': True,\n",
       "    'sinaeresis_index': [1],\n",
       "    'is_word_end': True}],\n",
       "  'rhythm': {'stress': '++-+-+---+-', 'type': 'pattern', 'length': 11}},\n",
       " {'tokens': [{'word': [{'syllable': 'U', 'is_stressed': True},\n",
       "     {'syllable': 'na', 'is_stressed': False, 'is_word_end': True}],\n",
       "    'stress_position': -2},\n",
       "   {'word': [{'syllable': 'bar', 'is_stressed': True},\n",
       "     {'syllable': 'ca', 'is_stressed': False, 'is_word_end': True}],\n",
       "    'stress_position': -2},\n",
       "   {'word': [{'syllable': 'se',\n",
       "      'is_stressed': False,\n",
       "      'has_synalepha': True,\n",
       "      'is_word_end': True}],\n",
       "    'stress_position': 0},\n",
       "   {'word': [{'syllable': 'a', 'is_stressed': False},\n",
       "     {'syllable': 'le', 'is_stressed': True},\n",
       "     {'syllable': 'ja', 'is_stressed': False, 'is_word_end': True}],\n",
       "    'stress_position': -2},\n",
       "   {'word': [{'syllable': 'len', 'is_stressed': True},\n",
       "     {'syllable': 'ta', 'is_stressed': False},\n",
       "     {'syllable': 'men', 'is_stressed': True},\n",
       "     {'syllable': 'te', 'is_stressed': False, 'is_word_end': True}],\n",
       "    'stress_position': -4,\n",
       "    'secondary_stress_positions': [-2]},\n",
       "   {'symbol': ','}],\n",
       "  'phonological_groups': [{'syllable': 'U', 'is_stressed': True},\n",
       "   {'syllable': 'na', 'is_stressed': False, 'is_word_end': True},\n",
       "   {'syllable': 'bar', 'is_stressed': True},\n",
       "   {'syllable': 'ca', 'is_stressed': False, 'is_word_end': True},\n",
       "   {'syllable': 'sea', 'is_stressed': False, 'synalepha_index': [1]},\n",
       "   {'syllable': 'le', 'is_stressed': True},\n",
       "   {'syllable': 'ja', 'is_stressed': False, 'is_word_end': True},\n",
       "   {'syllable': 'len', 'is_stressed': True},\n",
       "   {'syllable': 'ta', 'is_stressed': False},\n",
       "   {'syllable': 'men', 'is_stressed': True},\n",
       "   {'syllable': 'te', 'is_stressed': False, 'is_word_end': True}],\n",
       "  'rhythm': {'stress': '+-+--+-+-+-', 'type': 'pattern', 'length': 11}},\n",
       " {'tokens': [{'word': [{'syllable': 'u', 'is_stressed': True},\n",
       "     {'syllable': 'na',\n",
       "      'is_stressed': False,\n",
       "      'has_synalepha': True,\n",
       "      'is_word_end': True}],\n",
       "    'stress_position': -2},\n",
       "   {'word': [{'syllable': 'es', 'is_stressed': False},\n",
       "     {'syllable': 'te', 'is_stressed': True},\n",
       "     {'syllable': 'la', 'is_stressed': False, 'is_word_end': True}],\n",
       "    'stress_position': -2},\n",
       "   {'word': [{'syllable': 'de', 'is_stressed': False, 'is_word_end': True}],\n",
       "    'stress_position': 0},\n",
       "   {'word': [{'syllable': 'luz', 'is_stressed': True, 'is_word_end': True}],\n",
       "    'stress_position': -1},\n",
       "   {'symbol': ','},\n",
       "   {'word': [{'syllable': 'un', 'is_stressed': True, 'is_word_end': True}],\n",
       "    'stress_position': -1},\n",
       "   {'word': [{'syllable': 'va', 'is_stressed': True},\n",
       "     {'syllable': 'go', 'is_stressed': False, 'is_word_end': True}],\n",
       "    'stress_position': -2},\n",
       "   {'word': [{'syllable': 'can', 'is_stressed': True},\n",
       "     {'syllable': 'to', 'is_stressed': False, 'is_word_end': True}],\n",
       "    'stress_position': -2},\n",
       "   {'symbol': ','}],\n",
       "  'phonological_groups': [{'syllable': 'u', 'is_stressed': True},\n",
       "   {'syllable': 'naes', 'is_stressed': False, 'synalepha_index': [1]},\n",
       "   {'syllable': 'te', 'is_stressed': True},\n",
       "   {'syllable': 'la', 'is_stressed': False, 'is_word_end': True},\n",
       "   {'syllable': 'de', 'is_stressed': False, 'is_word_end': True},\n",
       "   {'syllable': 'luz', 'is_stressed': True, 'is_word_end': True},\n",
       "   {'syllable': 'un', 'is_stressed': True, 'is_word_end': True},\n",
       "   {'syllable': 'va', 'is_stressed': True},\n",
       "   {'syllable': 'go', 'is_stressed': False, 'is_word_end': True},\n",
       "   {'syllable': 'can', 'is_stressed': True},\n",
       "   {'syllable': 'to', 'is_stressed': False, 'is_word_end': True}],\n",
       "  'rhythm': {'stress': '+-+--+++-+-', 'type': 'pattern', 'length': 11}},\n",
       " {'tokens': [{'word': [{'syllable': 'som', 'is_stressed': True},\n",
       "     {'syllable': 'bras', 'is_stressed': False, 'is_word_end': True}],\n",
       "    'stress_position': -2},\n",
       "   {'word': [{'syllable': 'que', 'is_stressed': False, 'is_word_end': True}],\n",
       "    'stress_position': 0},\n",
       "   {'word': [{'syllable': 'pa', 'is_stressed': True},\n",
       "     {'syllable': 'san', 'is_stressed': False, 'is_word_end': True}],\n",
       "    'stress_position': -2},\n",
       "   {'word': [{'syllable': 'so', 'is_stressed': False},\n",
       "     {'syllable': 'bre',\n",
       "      'is_stressed': False,\n",
       "      'has_synalepha': True,\n",
       "      'is_word_end': True}],\n",
       "    'stress_position': 0},\n",
       "   {'word': [{'syllable': 'el', 'is_stressed': False, 'is_word_end': True}],\n",
       "    'stress_position': 0},\n",
       "   {'word': [{'syllable': 'quie', 'is_stressed': True},\n",
       "     {'syllable': 'to', 'is_stressed': False, 'is_word_end': True}],\n",
       "    'stress_position': -2},\n",
       "   {'word': [{'syllable': 'mar', 'is_stressed': True, 'is_word_end': True}],\n",
       "    'stress_position': -1},\n",
       "   {'symbol': ';'}],\n",
       "  'phonological_groups': [{'syllable': 'som', 'is_stressed': True},\n",
       "   {'syllable': 'bras', 'is_stressed': False, 'is_word_end': True},\n",
       "   {'syllable': 'que', 'is_stressed': False, 'is_word_end': True},\n",
       "   {'syllable': 'pa', 'is_stressed': True},\n",
       "   {'syllable': 'san', 'is_stressed': False, 'is_word_end': True},\n",
       "   {'syllable': 'so', 'is_stressed': False},\n",
       "   {'syllable': 'breel',\n",
       "    'is_stressed': False,\n",
       "    'synalepha_index': [2],\n",
       "    'is_word_end': True},\n",
       "   {'syllable': 'quie', 'is_stressed': True},\n",
       "   {'syllable': 'to', 'is_stressed': False, 'is_word_end': True},\n",
       "   {'syllable': 'mar', 'is_stressed': True, 'is_word_end': True}],\n",
       "  'rhythm': {'stress': '+--+---+-+-', 'type': 'pattern', 'length': 11}},\n",
       " {'tokens': [{'word': [{'syllable': 'Y',\n",
       "      'is_stressed': False,\n",
       "      'is_word_end': True}],\n",
       "    'stress_position': 0},\n",
       "   {'word': [{'syllable': 'las', 'is_stressed': False, 'is_word_end': True}],\n",
       "    'stress_position': 0},\n",
       "   {'word': [{'syllable': 'ho', 'is_stressed': True},\n",
       "     {'syllable': 'ras', 'is_stressed': False, 'is_word_end': True}],\n",
       "    'stress_position': -2},\n",
       "   {'word': [{'syllable': 'se', 'is_stressed': False, 'is_word_end': True}],\n",
       "    'stress_position': 0},\n",
       "   {'word': [{'syllable': 'van', 'is_stressed': True, 'is_word_end': True}],\n",
       "    'stress_position': -1},\n",
       "   {'word': [{'syllable': 'pau', 'is_stressed': False},\n",
       "     {'syllable': 'sa', 'is_stressed': True},\n",
       "     {'syllable': 'da', 'is_stressed': False},\n",
       "     {'syllable': 'men', 'is_stressed': True},\n",
       "     {'syllable': 'te', 'is_stressed': False, 'is_word_end': True}],\n",
       "    'stress_position': -4,\n",
       "    'secondary_stress_positions': [-2]},\n",
       "   {'symbol': ','}],\n",
       "  'phonological_groups': [{'syllable': 'Y',\n",
       "    'is_stressed': False,\n",
       "    'is_word_end': True},\n",
       "   {'syllable': 'las', 'is_stressed': False, 'is_word_end': True},\n",
       "   {'syllable': 'ho', 'is_stressed': True},\n",
       "   {'syllable': 'ras', 'is_stressed': False, 'is_word_end': True},\n",
       "   {'syllable': 'se', 'is_stressed': False, 'is_word_end': True},\n",
       "   {'syllable': 'van', 'is_stressed': True, 'is_word_end': True},\n",
       "   {'syllable': 'pau', 'is_stressed': False},\n",
       "   {'syllable': 'sa', 'is_stressed': True},\n",
       "   {'syllable': 'da', 'is_stressed': False},\n",
       "   {'syllable': 'men', 'is_stressed': True},\n",
       "   {'syllable': 'te', 'is_stressed': False, 'is_word_end': True}],\n",
       "  'rhythm': {'stress': '--+--+-+-+-', 'type': 'pattern', 'length': 11}},\n",
       " {'tokens': [{'word': [{'syllable': 'mien', 'is_stressed': False},\n",
       "     {'syllable': 'tras', 'is_stressed': False, 'is_word_end': True}],\n",
       "    'stress_position': 0},\n",
       "   {'word': [{'syllable': 'vier', 'is_stressed': True},\n",
       "     {'syllable': 'te', 'is_stressed': False, 'is_word_end': True}],\n",
       "    'stress_position': -2},\n",
       "   {'word': [{'syllable': 'la', 'is_stressed': False, 'is_word_end': True}],\n",
       "    'stress_position': 0},\n",
       "   {'word': [{'syllable': 'luz', 'is_stressed': True, 'is_word_end': True}],\n",
       "    'stress_position': -1},\n",
       "   {'word': [{'syllable': 'su',\n",
       "      'is_stressed': False,\n",
       "      'has_synalepha': True,\n",
       "      'is_word_end': True}],\n",
       "    'stress_position': 0},\n",
       "   {'word': [{'syllable': 'úl', 'is_stressed': True},\n",
       "     {'syllable': 'ti', 'is_stressed': False},\n",
       "     {'syllable': 'mo',\n",
       "      'is_stressed': False,\n",
       "      'has_synalepha': True,\n",
       "      'is_word_end': True}],\n",
       "    'stress_position': -3},\n",
       "   {'word': [{'syllable': 'en', 'is_stressed': False},\n",
       "     {'syllable': 'can', 'is_stressed': True},\n",
       "     {'syllable': 'to', 'is_stressed': False, 'is_word_end': True}],\n",
       "    'stress_position': -2}],\n",
       "  'phonological_groups': [{'syllable': 'mien', 'is_stressed': False},\n",
       "   {'syllable': 'tras', 'is_stressed': False, 'is_word_end': True},\n",
       "   {'syllable': 'vier', 'is_stressed': True},\n",
       "   {'syllable': 'te', 'is_stressed': False, 'is_word_end': True},\n",
       "   {'syllable': 'la', 'is_stressed': False, 'is_word_end': True},\n",
       "   {'syllable': 'luz', 'is_stressed': True, 'is_word_end': True},\n",
       "   {'syllable': 'suúl', 'is_stressed': True, 'synalepha_index': [1]},\n",
       "   {'syllable': 'ti', 'is_stressed': False},\n",
       "   {'syllable': 'moen', 'is_stressed': False, 'synalepha_index': [1]},\n",
       "   {'syllable': 'can', 'is_stressed': True},\n",
       "   {'syllable': 'to', 'is_stressed': False, 'is_word_end': True}],\n",
       "  'rhythm': {'stress': '--+--++--+-', 'type': 'pattern', 'length': 11}},\n",
       " {'tokens': [{'word': [{'syllable': 'en',\n",
       "      'is_stressed': False,\n",
       "      'is_word_end': True}],\n",
       "    'stress_position': 0},\n",
       "   {'word': [{'syllable': 'un', 'is_stressed': True, 'is_word_end': True}],\n",
       "    'stress_position': -1},\n",
       "   {'word': [{'syllable': 'in', 'is_stressed': False},\n",
       "     {'syllable': 'ten', 'is_stressed': True},\n",
       "     {'syllable': 'so', 'is_stressed': False, 'is_word_end': True}],\n",
       "    'stress_position': -2},\n",
       "   {'symbol': ','},\n",
       "   {'word': [{'syllable': 'pá', 'is_stressed': True},\n",
       "     {'syllable': 'li', 'is_stressed': False},\n",
       "     {'syllable': 'do', 'is_stressed': False, 'is_word_end': True}],\n",
       "    'stress_position': -3},\n",
       "   {'word': [{'syllable': 'lla', 'is_stressed': False},\n",
       "     {'syllable': 'me', 'is_stressed': False, 'has_sinaeresis': True},\n",
       "     {'syllable': 'ar', 'is_stressed': True, 'is_word_end': True}],\n",
       "    'stress_position': -1},\n",
       "   {'symbol': '.'}],\n",
       "  'phonological_groups': [{'syllable': 'en',\n",
       "    'is_stressed': False,\n",
       "    'is_word_end': True},\n",
       "   {'syllable': 'un', 'is_stressed': True, 'is_word_end': True},\n",
       "   {'syllable': 'in', 'is_stressed': False},\n",
       "   {'syllable': 'ten', 'is_stressed': True},\n",
       "   {'syllable': 'so', 'is_stressed': False, 'is_word_end': True},\n",
       "   {'syllable': 'pá', 'is_stressed': True},\n",
       "   {'syllable': 'li', 'is_stressed': False},\n",
       "   {'syllable': 'do', 'is_stressed': False, 'is_word_end': True},\n",
       "   {'syllable': 'lla', 'is_stressed': False},\n",
       "   {'syllable': 'mear',\n",
       "    'is_stressed': True,\n",
       "    'sinaeresis_index': [1],\n",
       "    'is_word_end': True}],\n",
       "  'rhythm': {'stress': '-+-+-+---+-', 'type': 'pattern', 'length': 11}}]"
      ]
     },
     "execution_count": 4,
     "metadata": {},
     "output_type": "execute_result"
    }
   ],
   "source": [
    "resultado"
   ]
  },
  {
   "cell_type": "markdown",
   "metadata": {},
   "source": [
    "El resultado de la escansión (asignado a `resultado`) contiene varios tipos de información. Vemos aquí los contenidos más importantes del resultado y más abajo cómo explotarlos. El resultado contiene una lista de valores (un valor por verso) con una estructura concreta. La estructura del valor para cada verso se conoce como diccionario en Python (tipo `dict`). Un diccionario está estructurado según pares de clave-valor. Describimos las claves que nos interesan más directamente:\n",
    "- `tokens`: contiene a su vez una lista de diccionarios, cada uno de los cuales tienen una clave word. El valor de `word` es a su vez una lista de diccionarios, uno por sílaba. Dentro de éstos, el valor de la clave `syllable` nos da la secuencia ortográfica para cada sílaba léxica del poema. P. ej. en el verso 4, veremos que los valores de `syllable` dentro de cada diccionario `word` son (separados con un guion): *ba-jo, nu-bes, de, fue-go, el, po-nien-te, ar-de*.\n",
    "- `phonological_groups`: Representa la silabificación métrica mediante una lista de diccionarios. La clave `syllable` de cada diccionario permite acceder a las sílabas métricas. Por ejemplo en el verso 4, los valores de estas claves `syllable` son (separados con guion): *ba-jo-nu-bes-de-fue-goel-po-nien-tear-de* (sinalefas destacadas en negrita)\n",
    "- `rhythm`: Es también un diccionario. Nos interesan sus claves `stress` y `length`.\n",
    "  - `stress`: El patron métrico, con un signo más (+) para sílabas métricas tónicas y un signo menos (-) para las átonas. En el verso 4 el patrón es `--+--+--++-`, con acentos en las sílabas 3 y 6, el acento obligatorio en la 10 y un acento antirrítmico en la 9. \n",
    "  - `length`: Número de sílabas métricas del verso (en este poema siempre 11)"
   ]
  },
  {
   "cell_type": "markdown",
   "metadata": {},
   "source": [
    "<a name=\"extraer-escansion\"></a>\n",
    "\n",
    "\n",
    "### Extraer los patrones métricos a partir del resultado de Rantanplan"
   ]
  },
  {
   "cell_type": "markdown",
   "metadata": {},
   "source": [
    "El código para mostrar en pantalla el patrón métrico de cada verso es el siguiente. El código se explica línea  a línea en detalle más abajo. "
   ]
  },
  {
   "cell_type": "code",
   "execution_count": 5,
   "metadata": {
    "scrolled": true
   },
   "outputs": [
    {
     "name": "stdout",
     "output_type": "stream",
     "text": [
      "+--+---+-+-\n",
      "-+-+-+---+-\n",
      "+--+---+-+-\n",
      "--+--+--++-\n",
      "+--+---+-+-\n",
      "-+-+-+---+-\n",
      "---+-+--++-\n",
      "++-+-+---+-\n",
      "+-+--+-+-+-\n",
      "+-+--+++-+-\n",
      "+--+---+-+-\n",
      "--+--+-+-+-\n",
      "--+--++--+-\n",
      "-+-+-+---+-\n"
     ]
    }
   ],
   "source": [
    "for verso in resultado:\n",
    "    escansion = verso[\"rhythm\"][\"stress\"]\n",
    "    print(escansion)"
   ]
  },
  {
   "cell_type": "markdown",
   "metadata": {},
   "source": [
    "Ya que queremos utilizar los resultados de escansión, vamos a extraer los valores de `stress` que están dentro del diccionario `rhythm` de cada verso. Explicamos cada línea del código.\n",
    "\n",
    "- `for verso in resultado:`\n",
    "\n",
    "  - El código para extraer la escansión empieza con un bucle (conjunto de instrucciones que se repiten para cada elemento de una serie). El bucle se introduce con la instrucción `for` y usa una variable, en este caso `verso`, para recorrer la serie (contenida en `resultado`). `for verso in resultado` quiere decir \"recorrer la serie `resultado` asignando el contenido de cada elemento de la serie a `verso`, uno por uno\".\n",
    "  - Como se ha visto, `resultado` contiene una lista de diccionarios, y cada uno de estos diccionarios da la información anotada por Rantanplan para cada verso. A medida que el bucle va recorriendo los elementos de `resultado`, el valor de `verso` corresponde a la información de cada verso, uno por uno.\n",
    "  - Las instrucciones dentro del bucle van indentadas (esto viene impuesto por la sintaxis del lenguaje Python, donde se indentan los bloques de código como bucles)\n",
    "\n",
    "- `escansion = verso[\"rhythm\"][\"stress\"]`\n",
    "  - Para acceder a los valores de un diccionario, se usa el nombre de la clave asociada a esos valores. En caso de diccionarios imbricados (contenidos en otros diccionarios), se mencionan las claves sucesivas que llevan al valor deseado. Las claves se dan entre corchetes y entre comillas dentro de estos. \n",
    "  - El patron métrico se ha asignado a una variable llamada `escansion`\n",
    "  - Como la expresión se encuentra dentro del bucle, se asigna *para cada verso* el patrón métrico a la variable\n",
    "\n",
    "- `print(escansion)`\n",
    "  - La instrucción print toma como argumentos (entre paréntesis, separados por comas) los valores a mostrar en pantalla. `print(escansion)` muestra el contenido asignado a la variable `escansion`.\n",
    "  - Como la expresión se encuentra dentro del bucle, se muestra *para cada verso* el valor de `escansion` en pantalla\n",
    "  \n",
    "El resultado esperado es el siguiente (veremos más abajo cómo mejorar su legibilidad):\n",
    "\n",
    "```\n",
    "+--+---+-+-\n",
    "-+-+-+---+-\n",
    "+--+---+-+-\n",
    "--+--+--++-\n",
    "+--+---+-+-\n",
    "-+-+-+---+-\n",
    "---+-+--++-\n",
    "++-+-+---+-\n",
    "+-+--+-+-+-\n",
    "+-+--+++-+-\n",
    "+--+---+-+-\n",
    "--+--+-+-+-\n",
    "--+--++--+-\n",
    "-+-+-+---+-\n",
    "```"
   ]
  },
  {
   "cell_type": "markdown",
   "metadata": {},
   "source": [
    "<a name=\"formatear-resultados\"></a>\n",
    "\n",
    "### Formatear los resultados"
   ]
  },
  {
   "cell_type": "markdown",
   "metadata": {},
   "source": [
    "<a name=\"anadir-numero-verso\"></a>\n",
    "\n",
    "#### Añadir el número del verso"
   ]
  },
  {
   "cell_type": "markdown",
   "metadata": {},
   "source": [
    "La legibilidad del resultado se puede mejorar de varias formas. Podemos empezar por numerar los resultados de cada verso:\n",
    "- La instrucción `enumerate` numera cada elemento de la serie, es decir aquí numera las respuestas de Rantanplan para cada verso.\n",
    "- El número creado por `enumerate` se debe asignar a una variable, en este caso `indice`.\n",
    "- El valor de `indice` para cada verso corresponde al número creado por `enumerate` para él.\n",
    "- Como se empieza a contar por cero (no por 1), al mostrar el número en pantalla se suma 1, con la expresión `indice+1` que es el primer argumento de `print` en la línea final del bucle.\n",
    "\n",
    "El resultado esperado es el siguiente:\n",
    "\n",
    "```\n",
    "1 +--+---+-+-\n",
    "2 -+-+-+---+-\n",
    "3 +--+---+-+-\n",
    "4 --+--+--++-\n",
    "5 +--+---+-+-\n",
    "6 -+-+-+---+-\n",
    "7 ---+-+--++-\n",
    "8 ++-+-+---+-\n",
    "9 +-+--+-+-+-\n",
    "10 +-+--+++-+-\n",
    "11 +--+---+-+-\n",
    "12 --+--+-+-+-\n",
    "13 --+--++--+-\n",
    "14 -+-+-+---+-\n",
    "```"
   ]
  },
  {
   "cell_type": "code",
   "execution_count": 6,
   "metadata": {},
   "outputs": [
    {
     "name": "stdout",
     "output_type": "stream",
     "text": [
      "1 +--+---+-+-\n",
      "2 -+-+-+---+-\n",
      "3 +--+---+-+-\n",
      "4 --+--+--++-\n",
      "5 +--+---+-+-\n",
      "6 -+-+-+---+-\n",
      "7 ---+-+--++-\n",
      "8 ++-+-+---+-\n",
      "9 +-+--+-+-+-\n",
      "10 +-+--+++-+-\n",
      "11 +--+---+-+-\n",
      "12 --+--+-+-+-\n",
      "13 --+--++--+-\n",
      "14 -+-+-+---+-\n"
     ]
    }
   ],
   "source": [
    "for indice, verso in enumerate(resultado):\n",
    "    escansion = verso[\"rhythm\"][\"stress\"]\n",
    "    print(indice+1, escansion)"
   ]
  },
  {
   "cell_type": "markdown",
   "metadata": {},
   "source": [
    "<a name=\"patron-metrico-cifras\"></a>\n",
    "\n",
    "#### Expresar los patrones métricos con cifras"
   ]
  },
  {
   "cell_type": "markdown",
   "metadata": {},
   "source": [
    "Se proporciona primero el código y después su explicación detallada."
   ]
  },
  {
   "cell_type": "code",
   "execution_count": 7,
   "metadata": {
    "scrolled": false
   },
   "outputs": [
    {
     "name": "stdout",
     "output_type": "stream",
     "text": [
      "1\t1 4 8 10\n",
      "2\t2 4 6 10\n",
      "3\t1 4 8 10\n",
      "4\t3 6 9 10\n",
      "5\t1 4 8 10\n",
      "6\t2 4 6 10\n",
      "7\t4 6 9 10\n",
      "8\t1 2 4 6 10\n",
      "9\t1 3 6 8 10\n",
      "10\t1 3 6 7 8 10\n",
      "11\t1 4 8 10\n",
      "12\t3 6 8 10\n",
      "13\t3 6 7 10\n",
      "14\t2 4 6 10\n"
     ]
    }
   ],
   "source": [
    "for indice, verso in enumerate(resultado):\n",
    "    escansion = verso[\"rhythm\"][\"stress\"]\n",
    "    escansion_cifras = \" \".join([str(i+1) for i, sig in\n",
    "                                 enumerate(escansion) if sig == \"+\"])\n",
    "    print(f\"{indice+1}\\t{escansion_cifras}\")"
   ]
  },
  {
   "cell_type": "markdown",
   "metadata": {},
   "source": [
    "Otra forma de mejorar la salida consiste en representar los patrones con cifras en vez de con signos más y menos.\n",
    "\n",
    "Para esto usamos un nuevo bucle similar al usado para recorrer los resultados de Rantanplan, pero ahora lo usaremos para recorrer la cadena de texto que expresa el patrón métrico para cada verso.\n",
    "\n",
    "La expresión `[str(i+1) for i, sig in enumerate(escansion) if sig == \"+\"]` es de tipo \"comprensión de lista\". Recorre una lista (en este caso el resultado de `enumerate(escansion)`, realiza operaciones sobre sus elementos, devuelve otra lista como salida:\n",
    "- `for i, sig in enumerate(escansion)` recorre `escansion` con dos variables. La variable `i` corresponde al número creado por `enumerate` para cada signo dentro de `escansion`, y la variable `sig` corresponde a los signos.\n",
    "- `enumerate(escansion)` se asigna un número a cada signo `+` y `-` del patrón.\n",
    "- Gracias al test `sig == \"+\"` se consideran para la lista de salida sólamente las posiciones cuyo signo es \"+\"; el test sirve para filtrar la lista inicial y operar exclusivamente sobre las posiciones cuyo signo es `+`, que son las que tienen acento, cuya posición queremos reflejar con un número de sílaba en la salida.\n",
    "- Como `enumerate()` empieza a numerar por cero (no por uno), debemos sumar 1 a sus números, esto se hace con `i+1`\n",
    "- Finalmente, queremos una cadena de texto que exprese las posiciones acentuadas métricamente. Queremos texto, no números, con lo que convertimos con `str()` el resultado de `i+1`, con la expresión `str(i+1)`\n",
    "\n",
    "Para obtener la cadena de texto final a partir del resultado de la comprensión de lista, usamos la expresión `join()`. Esta expresión une con un delimitador los elementos de una lista. Por ejemplo, para el primer verso, la comprensión de lista que convierte el patrón `+--+---+-+-` en números de posición (más exactamente en una cadena de texto que expresa cada número) devuelve la siguiente lista: `[\"1\", \"4\", \"8\", \"10\"]`. Pero queremos la cadena `\"1 4 8 10\"`. La podemos obtener con `\" \".join()`, que unirá con un espacio los elementos de la lista. La razón por la que hemos convertido a cadena cada número de la lista es que `join()` sólo opera sobre texto, no sobre números (no podemos darle la lista `[1, 4, 8, 10]` sino que hay que convertir cada número a cadena con `str()`, lo que da `[\"1\", \"4\", \"8\", \"10\"]` como se ha mencionado).\n",
    "\n",
    "Esta cadena de texto que proviene de aplicar `join()` sobre la lista devuelta por la comprensión de lista se ha asignado a la variable `escansion_cifras`.\n",
    "\n",
    "Finalmente, para mostrar en pantalla los resultados se ha separado el número de verso del patrón métrico con una tabulación `\\t`, para que se distinga mejor el número del verso del primer número de sílaba del patrón métrico. Cabe describir también el uso de la sintaxis `f\"\"`, con una `f` antes de la cadena, para interpolar (intercalar) nombres de variable e incluso expresiones (porciones de código que devuelven un resultado) dentro de una cadena de texto; los nombres de variable y las expresiones irán entre llaves. Por eso escribimos dentro del argumento de print tanto la expresión `indice+1` como la variable `escansion_cifras` entre llaves.\n",
    "\n",
    "El resultado esperado es el sigiuente:\n",
    "\n",
    "```\n",
    "1\t1 4 8 10\n",
    "2\t2 4 6 10\n",
    "3\t1 4 8 10\n",
    "4\t3 6 9 10\n",
    "5\t1 4 8 10\n",
    "6\t2 4 6 10\n",
    "7\t4 6 9 10\n",
    "8\t1 2 4 6 10\n",
    "9\t1 3 6 8 10\n",
    "10\t1 3 6 7 8 10\n",
    "11\t1 4 8 10\n",
    "12\t3 6 8 10\n",
    "13\t3 6 7 10\n",
    "14\t2 4 6 10\n",
    "```"
   ]
  },
  {
   "cell_type": "markdown",
   "metadata": {},
   "source": [
    "<a name=\"anadir-texto-verso\"></a>\n",
    "\n",
    "#### Añadir el texto de cada verso"
   ]
  },
  {
   "cell_type": "markdown",
   "metadata": {},
   "source": [
    "Esto requiere una manipulación adicional: Vamos a obtener el número de cada verso del poema a partir de su texto original, pero deberemos eliminar las líneas vacías (que separan las estrofas).\n",
    "\n",
    "Para esto usamos una vez más una comprensión de lista. Mediante el test `if verso != \"\"`, la comprensión guarda para la lista de salida sólamente las líneas que no están vacías, que no son iguales a una cadena vacía `\"\"`.\n",
    "\n",
    "Se ha asignado la lista de salida a la variable `texto_sin_blancos`."
   ]
  },
  {
   "cell_type": "code",
   "execution_count": 8,
   "metadata": {},
   "outputs": [],
   "source": [
    "texto_sin_blancos = [verso for verso in texto_poema.split(\"\\n\") if verso != \"\"]"
   ]
  },
  {
   "cell_type": "code",
   "execution_count": 9,
   "metadata": {
    "scrolled": true
   },
   "outputs": [
    {
     "data": {
      "text/plain": [
       "['Rosas sangrantes sobre el mar desflora',\n",
       " 'el sol que dice adioses en la tarde,',\n",
       " 'riman las aguas su canción sonora,',\n",
       " 'bajo nubes de fuego el poniente arde.',\n",
       " 'Vibran las cañas al chocar del viento,',\n",
       " 'formando extraña y triste sinfonía,',\n",
       " 'y la palmera altiva en vaivén lento',\n",
       " 'es una glauca nota de armonía.',\n",
       " 'Una barca se aleja lentamente,',\n",
       " 'una estela de luz, un vago canto,',\n",
       " 'sombras que pasan sobre el quieto mar;',\n",
       " 'Y las horas se van pausadamente,',\n",
       " 'mientras vierte la luz su último encanto',\n",
       " 'en un intenso, pálido llamear.']"
      ]
     },
     "execution_count": 9,
     "metadata": {},
     "output_type": "execute_result"
    }
   ],
   "source": [
    "texto_sin_blancos"
   ]
  },
  {
   "cell_type": "markdown",
   "metadata": {},
   "source": [
    "El texto de cada verso se muestra en pantalla gracias a `texto_sin_blancos[indice]` en la cadena procesada por la expresión `print()` en la última línea del bucle. Esto funciona por la razón siguiente: `indice` asigna un número a los resultados de Rantanplan para cada verso, empezando por 0. En Python se accede a los elementos de una lista usando índices numéricos. El texto sin líneas vacías está expresado en la lista `texto_sin_blancos`, cuyos elementos continenen el texto de cada verso. Podemos entonces usar los índices generados por `enumerate()` para acceder al texto de cada verso, dentro de la lista `texto_sin_blancos`."
   ]
  },
  {
   "cell_type": "code",
   "execution_count": 10,
   "metadata": {},
   "outputs": [
    {
     "name": "stdout",
     "output_type": "stream",
     "text": [
      "1\t1 4 8 10\tRosas sangrantes sobre el mar desflora\n",
      "2\t2 4 6 10\tel sol que dice adioses en la tarde,\n",
      "3\t1 4 8 10\triman las aguas su canción sonora,\n",
      "4\t3 6 9 10\tbajo nubes de fuego el poniente arde.\n",
      "5\t1 4 8 10\tVibran las cañas al chocar del viento,\n",
      "6\t2 4 6 10\tformando extraña y triste sinfonía,\n",
      "7\t4 6 9 10\ty la palmera altiva en vaivén lento\n",
      "8\t1 2 4 6 10\tes una glauca nota de armonía.\n",
      "9\t1 3 6 8 10\tUna barca se aleja lentamente,\n",
      "10\t1 3 6 7 8 10\tuna estela de luz, un vago canto,\n",
      "11\t1 4 8 10\tsombras que pasan sobre el quieto mar;\n",
      "12\t3 6 8 10\tY las horas se van pausadamente,\n",
      "13\t3 6 7 10\tmientras vierte la luz su último encanto\n",
      "14\t2 4 6 10\ten un intenso, pálido llamear.\n"
     ]
    }
   ],
   "source": [
    "for indice, verso in enumerate(resultado):\n",
    "    escansion = verso[\"rhythm\"][\"stress\"]\n",
    "    escansion_cifras = \" \".join([str(i+1) for i, ltr in enumerate(escansion) if ltr == \"+\"])\n",
    "    print(f\"{indice+1}\\t{escansion_cifras}\\t{texto_sin_blancos[indice]}\")"
   ]
  },
  {
   "cell_type": "markdown",
   "metadata": {},
   "source": [
    "<a name=\"#escansion-rantanplan-directorio\"></a>\n",
    "\n",
    "\n",
    "## Aplicar Rantanplan para la escansión de varios poemas (en un directorio)"
   ]
  },
  {
   "cell_type": "markdown",
   "metadata": {},
   "source": [
    "Ahora reproducimos el procedimiento para escandir un poema, pero aplicándolo a un directorio que contiene un archivo por poema. Los resultados de la escansión serán escritos a un único archivo de salida de tipo \"dataframe\", que se puede abrir con una hoja de cálculo (forma de proceder habitual para análisis de datos)\n",
    "\n",
    "Esto requiere código para abrir ficheros y leer su contenido (que será ofrecido como entrada a Rantanplan para el análisis), además de código para escribir el archivo de salida con los resultados por verso.\n",
    "\n",
    "Usaremos los poemas de [Evangelina Guerrero](https://github.com/pruizf/disco/tree/v4/txt/20th/per-author/disco004t), poeta filipina presente en el corpus DISCO.\n",
    "\n"
   ]
  },
  {
   "cell_type": "markdown",
   "metadata": {},
   "source": [
    "### Instalar librerías"
   ]
  },
  {
   "cell_type": "markdown",
   "metadata": {},
   "source": [
    "Para guardar los datos en formato Excel, instalaremos `openpyxl`."
   ]
  },
  {
   "cell_type": "markdown",
   "metadata": {},
   "source": [
    "say what comments are\n",
    "also write out the dataframe and on the book text give the screencap when you open it on a spreadsheet"
   ]
  },
  {
   "cell_type": "code",
   "execution_count": 11,
   "metadata": {
    "scrolled": true
   },
   "outputs": [
    {
     "name": "stdout",
     "output_type": "stream",
     "text": [
      "Requirement already satisfied: openpyxl in /home/ruizfabo/anaconda3/envs/py39deezy/lib/python3.9/site-packages (3.0.10)\r\n",
      "Requirement already satisfied: et-xmlfile in /home/ruizfabo/anaconda3/envs/py39deezy/lib/python3.9/site-packages (from openpyxl) (1.1.0)\r\n"
     ]
    }
   ],
   "source": [
    "!pip install openpyxl"
   ]
  },
  {
   "cell_type": "markdown",
   "metadata": {},
   "source": [
    "### Aplicar Rantanplan"
   ]
  },
  {
   "cell_type": "markdown",
   "metadata": {},
   "source": [
    "Se da primero el código completo y después explicaciones sobre su funcionamiento."
   ]
  },
  {
   "cell_type": "code",
   "execution_count": 12,
   "metadata": {
    "scrolled": true
   },
   "outputs": [
    {
     "name": "stdout",
     "output_type": "stream",
     "text": [
      "/home/ruizfabo/projects/o/dhvol/capitulo-ana-poe/disco004t/disco004t_0090.txt\n",
      "/home/ruizfabo/projects/o/dhvol/capitulo-ana-poe/disco004t/disco004t_0094.txt\n",
      "/home/ruizfabo/projects/o/dhvol/capitulo-ana-poe/disco004t/disco004t_0093.txt\n",
      "/home/ruizfabo/projects/o/dhvol/capitulo-ana-poe/disco004t/disco004t_0091.txt\n",
      "/home/ruizfabo/projects/o/dhvol/capitulo-ana-poe/disco004t/disco004t_0096.txt\n",
      "/home/ruizfabo/projects/o/dhvol/capitulo-ana-poe/disco004t/disco004t_0095.txt\n",
      "/home/ruizfabo/projects/o/dhvol/capitulo-ana-poe/disco004t/disco004t_0089.txt\n",
      "/home/ruizfabo/projects/o/dhvol/capitulo-ana-poe/disco004t/disco004t_0092.txt\n"
     ]
    }
   ],
   "source": [
    "import pandas as pd\n",
    "from pathlib import Path\n",
    "\n",
    "import rantanplan\n",
    "from rantanplan.core import get_scansion\n",
    "\n",
    "dir_poemas = \"/home/ruizfabo/projects/o/dhvol/capitulo-ana-poe/disco004t\"\n",
    "ruta_poemas = Path(dir_poemas)\n",
    "ruta_salida = ruta_poemas / \"..\" / \"escansion_evangelina-guerrero.xlsx\"\n",
    "\n",
    "# preparar listas para los datos\n",
    "poemas = []\n",
    "numeros_poema = []\n",
    "incipits = []\n",
    "indices = []\n",
    "escansiones = []\n",
    "escansiones_cifras = []\n",
    "\n",
    "# recorrer poemas y obtener escansión\n",
    "for numero_poema, ruta_poema in enumerate(ruta_poemas.iterdir()):\n",
    "    # mostrar el nombre de archivo de cada poema en pantalla\n",
    "    print(ruta_poema)\n",
    "    # procesar cada poema\n",
    "    with open(ruta_poema) as descriptor_poema:\n",
    "        # filtrar las líneas vacías si las hay\n",
    "        texto_sin_blancos_lista = [linea.strip() for linea in descriptor_poema\n",
    "                                   if linea.strip() != \"\"]\n",
    "        # añadir contenido de la lista con el texto de cada verso\n",
    "        # a la lista general de datos\n",
    "        poemas.extend(texto_sin_blancos_lista)\n",
    "        # poner texto del poema como CADENA para dar a rantanplan\n",
    "        texto_sin_blancos = \"\\n\".join(texto_sin_blancos_lista)\n",
    "        # escansion (mismo proceso que para un solo poema)\n",
    "        resultados = get_scansion(texto_sin_blancos)\n",
    "        for indice, verso in enumerate(resultados):\n",
    "            escansion = verso[\"rhythm\"][\"stress\"]\n",
    "            escansion_cifras = \" \".join([str(i+1) for i, sig in\n",
    "                                         enumerate(escansion)\n",
    "                                         if sig == \"+\"])\n",
    "            # añadir escansión a lista general de datos\n",
    "            escansiones.append(escansion)\n",
    "            escansiones_cifras.append(escansion_cifras)\n",
    "            # añadir número de cada verso, íncipit y\n",
    "            # un número para el poema a lista general\n",
    "            indices.append(indice+1)\n",
    "            incipits.append(texto_sin_blancos_lista[0].strip())\n",
    "            numeros_poema.append(numero_poema+1)\n",
    "            \n",
    "\n",
    "# crear dataframe con las listas generales de datos\n",
    "datos = {\"numPoema\": numeros_poema,        \n",
    "        \"incipit\": incipits,\n",
    "        \"numVerso\": indices,\n",
    "        \"verso\": poemas,\n",
    "        \"escanSig\": escansiones,\n",
    "        \"escanNum\": escansiones_cifras}\n",
    "\n",
    "df = pd.DataFrame(datos)\n",
    "\n",
    "# escribir la dataframe en el archivo de salida\n",
    "df.to_excel(ruta_salida, index=False)"
   ]
  },
  {
   "cell_type": "markdown",
   "metadata": {},
   "source": [
    "#### Explicación del código"
   ]
  },
  {
   "cell_type": "markdown",
   "metadata": {},
   "source": [
    "Además del material relacionado con Rantanplan, importamos `pandas`, para crear la estructura de datos de salida (una dataframe) y `pathlib`, para trabajar con rutas de acceso a los ficheros que utilizaremos.\n",
    "\n",
    "**Rutas**\n",
    "\n",
    "Empezamos declarando y creando rutas:\n",
    "\n",
    "- `dir_poemas`: El directorio donde hemos copiado los poemas, dado entre comillas en tanto que cadena de texto. Hace falta la ruta absoluta (desde la raíz del sistema). En el ejemplo esta ruta es `/home/ruizfabo/projects/o/dhvol/capitulo-ana-poe/disco004t`.\n",
    "- `ruta_poemas`: Creamos un objeto ruta (`Path`) con pathlib. Este objeto tiene métodos que nos permiten hacer cosas útiles con la ruta, por ejemplo recorrer fácilmente los archivos del directorio, como haremos abajo. `ruta_poemas` ya no es una cadena de texto, sino un objeto con métodos (funciones) y propiedades específicas definidas para él en el lenguaje Python.\n",
    "- `ruta_salida`: Hemos creado un archivo de salida llamado `escansion_evangelina-guerrero.tsv` al mismo nivel que el directorio que contiene los poemas. Para esto, asignamos a la variable `ruta_salida` el valor `ruta_poemas / '..' / escansion_evangelina-guerrero.tsv`. La sintaxis `..` se refiere al directorio-padre (un nivel más arriba) con respecto a otro dado, y la barra oblicua o slash concatena partes de una ruta. Por tanto, al concatenar la ruta del directorio de los poemas con su directorio-padre y concatenarlo con un nombre de archivo, crea el archivo al mismo nivel que el directorio de los poemas.\n",
    "\n"
   ]
  },
  {
   "cell_type": "markdown",
   "metadata": {},
   "source": [
    "**Listas para recoger los datos**\n",
    "\n",
    "Después declaramos unas listas a las que se van a añadir los datos de escansión obtenidos con Rantanplan, a nivel del corpus entero:\n",
    "\n",
    "- `poemas`: Para guardar los versos, un elemento de la lista (como cadena de texto) por verso\n",
    "- `numeros_poema`: Un número asignado a cada poema\n",
    "- `incipits`: Primer verso de cada poema\n",
    "- `escansiones`: Los patrones de escansión obtenidos con Rantanplan\n",
    "- `escansiones_cifras`: Los mismos patrones, dados como cifras que expresan las posiciones silábicas acentuadas\n",
    "\n"
   ]
  },
  {
   "cell_type": "markdown",
   "metadata": {},
   "source": [
    "**Bucle principal para la escansión**\n",
    "\n",
    "Después se recorren los archivos con el bucle `for numero_poema, ruta_poema in enumerate(ruta_poemas.iterdir())`. Ya que ruta_poemas es un objeto `Path`, su método `iterdir()` permite iterar sobre los archivos del directorio.\n",
    "\n",
    "El bloque `with`, es decir `with open(ruta_poema) as descriptor_poema:` define las operaciones a efectuar con cada archivo que el bucle procesa:\n",
    "- Filtrar las líneas vacías con una comprensión de lista y asignar el resultado a `texto_sin_blancos_lista`. Una instrucción no vista antes aquí es `strip()`, que elimina el salto de línea final de cada verso (no lo necesitamos para la dataframe, ya que cada verso irá en su propia celda dentro de ésta).\n",
    "- Añadir el texto de cada verso (los contenidos de `texto_sin_blancos_lista`) a la lista general `poemas`, con la función `extend()`. La función `extend()` añade los *contenidos* de una lista a otra (no la lista en sí, dando una lista imbricada, para eso usaríamos `append()`, que se usa para añadir un valor de cualquier tipo a una lista).\n",
    "- El texto del poema entero, expresado como una sola cadena de texto, se pasa a Rantanplan. Para esto, primero se obtiene esta cadena, concatenando los elementos de `texto_sin_blancos_lista` con un salto de línea `\\n`, gracias a `\"\\n\".join(texto_sin_blancos_lista)`. El resultado de `join()` se asigna a la variable `texto_sin_blancos`, que se da como argumento a `get_scansion()` de Rantanplan.\n",
    "- El tratamiento de los resultados de Rantanplan es como lo que se ha visto [más arriba](#escansion-rantanplan) para un solo poema.\n",
    "- Una novedad aquí es cómo guardar los resultados de cada poema para que los resultados correspondientes a todo el corpus se puedan escribir en un archivo de salida.\n",
    "- Para esto, para cada verso se añaden con `.append()` estos datos a la lista correspondiente entre las listsa declaradas antes del bucle (a nivel del corpus entero, por tanto, no a nivel de cada poema; el bucle opera sobre cada poema y lo que se declara fuera de él puede operar para el corpus entero). "
   ]
  },
  {
   "cell_type": "markdown",
   "metadata": {},
   "source": [
    "**Dataframe con los datos de salida**"
   ]
  },
  {
   "cell_type": "markdown",
   "metadata": {},
   "source": [
    "El contenido de la dataframe (creada con la librería `pandas`) se declara con el nombre de cada una de sus columnas y la lista de valores que se asignará a la columna, p. ej. `\"escanSig\": escansiones\"` corresponde a la columna que contiene las escansiones para cada verso usando el format de signos *más* y *menos*. Hemos asignado el contenido a la variable `datos`.\n",
    "\n",
    "Finalemente, una vez que el contenido está organizado, creamos el objeto dataframe en sí sobre la base de ese contenido y lo asignamos a una variable, aquí llamada `df`, con `df = pd.DataFrame(datos)`. El objeto así creado tiene muchas funciones útiles para gestionar y analizar datos usando Python.\n",
    "\n",
    "Nosotros usaremos las funciones de escritura para poder usar los datos después en una hoja de cálculo. Hemos optado por `df.to_excel()` para escribir la salida en un formato comprensible por Excel o LibreOffice Calc, pero hay otras funciones como `to_csv()` que escriben un archivo delimitado (separado por comas o tabulaciones según los argumentos que damos a la función).\n",
    "\n",
    "Con `df.to_excel(ruta_salida, index=False)` escribimos la dataframe al archivo especificado en `ruta_salida`, omitiendo el índice interno de la dataframe gracias a `index=False`.\n",
    "\n"
   ]
  },
  {
   "cell_type": "markdown",
   "metadata": {},
   "source": [
    "Además de escribir la dataframe en un archivo de salida, podemos mostrar su contenido en el notebook (por defecto sólo las primeras y últimas líneas, pero se podrían mostrar otras líneas también). El contenido de la dataframe se puede mostrar introduciendo su nombre, como cualquier otra variable.\n",
    "\n",
    "La primera columna es el índice, que se muestra por defecto. Cuando escribimos los contenidos a un archivo, podemos pedir que no se reproduzca ese índice interno (no es necesario reproducirlo en nuestro caso porque ya hemos creado un identificador para cada poema (`numPoema`) y dentro de cada poema un número de verso (`numVerso`)."
   ]
  },
  {
   "cell_type": "code",
   "execution_count": 13,
   "metadata": {
    "scrolled": true
   },
   "outputs": [
    {
     "data": {
      "text/html": [
       "<div>\n",
       "<style scoped>\n",
       "    .dataframe tbody tr th:only-of-type {\n",
       "        vertical-align: middle;\n",
       "    }\n",
       "\n",
       "    .dataframe tbody tr th {\n",
       "        vertical-align: top;\n",
       "    }\n",
       "\n",
       "    .dataframe thead th {\n",
       "        text-align: right;\n",
       "    }\n",
       "</style>\n",
       "<table border=\"1\" class=\"dataframe\">\n",
       "  <thead>\n",
       "    <tr style=\"text-align: right;\">\n",
       "      <th></th>\n",
       "      <th>numPoema</th>\n",
       "      <th>incipit</th>\n",
       "      <th>numVerso</th>\n",
       "      <th>verso</th>\n",
       "      <th>escanSig</th>\n",
       "      <th>escanNum</th>\n",
       "    </tr>\n",
       "  </thead>\n",
       "  <tbody>\n",
       "    <tr>\n",
       "      <th>0</th>\n",
       "      <td>1</td>\n",
       "      <td>Rosas sangrantes sobre el mar desflora</td>\n",
       "      <td>1</td>\n",
       "      <td>Rosas sangrantes sobre el mar desflora</td>\n",
       "      <td>+--+---+-+-</td>\n",
       "      <td>1 4 8 10</td>\n",
       "    </tr>\n",
       "    <tr>\n",
       "      <th>1</th>\n",
       "      <td>1</td>\n",
       "      <td>Rosas sangrantes sobre el mar desflora</td>\n",
       "      <td>2</td>\n",
       "      <td>el sol que dice adioses en la tarde,</td>\n",
       "      <td>-+-+-+---+-</td>\n",
       "      <td>2 4 6 10</td>\n",
       "    </tr>\n",
       "    <tr>\n",
       "      <th>2</th>\n",
       "      <td>1</td>\n",
       "      <td>Rosas sangrantes sobre el mar desflora</td>\n",
       "      <td>3</td>\n",
       "      <td>riman las aguas su canción sonora,</td>\n",
       "      <td>+--+---+-+-</td>\n",
       "      <td>1 4 8 10</td>\n",
       "    </tr>\n",
       "    <tr>\n",
       "      <th>3</th>\n",
       "      <td>1</td>\n",
       "      <td>Rosas sangrantes sobre el mar desflora</td>\n",
       "      <td>4</td>\n",
       "      <td>bajo nubes de fuego el poniente arde.</td>\n",
       "      <td>--+--+--++-</td>\n",
       "      <td>3 6 9 10</td>\n",
       "    </tr>\n",
       "    <tr>\n",
       "      <th>4</th>\n",
       "      <td>1</td>\n",
       "      <td>Rosas sangrantes sobre el mar desflora</td>\n",
       "      <td>5</td>\n",
       "      <td>Vibran las cañas al chocar del viento,</td>\n",
       "      <td>+--+---+-+-</td>\n",
       "      <td>1 4 8 10</td>\n",
       "    </tr>\n",
       "    <tr>\n",
       "      <th>...</th>\n",
       "      <td>...</td>\n",
       "      <td>...</td>\n",
       "      <td>...</td>\n",
       "      <td>...</td>\n",
       "      <td>...</td>\n",
       "      <td>...</td>\n",
       "    </tr>\n",
       "    <tr>\n",
       "      <th>107</th>\n",
       "      <td>8</td>\n",
       "      <td>En el vaso sombrío de mis penas</td>\n",
       "      <td>10</td>\n",
       "      <td>Quedó un dulzor de mieles en mi boca</td>\n",
       "      <td>-+-+-+---+-</td>\n",
       "      <td>2 4 6 10</td>\n",
       "    </tr>\n",
       "    <tr>\n",
       "      <th>108</th>\n",
       "      <td>8</td>\n",
       "      <td>En el vaso sombrío de mis penas</td>\n",
       "      <td>11</td>\n",
       "      <td>y algo muriente se fundió en el viento.</td>\n",
       "      <td>+--+---+-+-</td>\n",
       "      <td>1 4 8 10</td>\n",
       "    </tr>\n",
       "    <tr>\n",
       "      <th>109</th>\n",
       "      <td>8</td>\n",
       "      <td>En el vaso sombrío de mis penas</td>\n",
       "      <td>12</td>\n",
       "      <td>¡Ya dejé de llorar!... En mi horizonte</td>\n",
       "      <td>+-+--+---+-</td>\n",
       "      <td>1 3 6 10</td>\n",
       "    </tr>\n",
       "    <tr>\n",
       "      <th>110</th>\n",
       "      <td>8</td>\n",
       "      <td>En el vaso sombrío de mis penas</td>\n",
       "      <td>13</td>\n",
       "      <td>vi dibujarse una esperanza loca</td>\n",
       "      <td>+--++--+-+-</td>\n",
       "      <td>1 4 5 8 10</td>\n",
       "    </tr>\n",
       "    <tr>\n",
       "      <th>111</th>\n",
       "      <td>8</td>\n",
       "      <td>En el vaso sombrío de mis penas</td>\n",
       "      <td>14</td>\n",
       "      <td>tras la tétrica risa de Caronte.</td>\n",
       "      <td>--+--+---+-</td>\n",
       "      <td>3 6 10</td>\n",
       "    </tr>\n",
       "  </tbody>\n",
       "</table>\n",
       "<p>112 rows × 6 columns</p>\n",
       "</div>"
      ],
      "text/plain": [
       "     numPoema                                 incipit  numVerso  \\\n",
       "0           1  Rosas sangrantes sobre el mar desflora         1   \n",
       "1           1  Rosas sangrantes sobre el mar desflora         2   \n",
       "2           1  Rosas sangrantes sobre el mar desflora         3   \n",
       "3           1  Rosas sangrantes sobre el mar desflora         4   \n",
       "4           1  Rosas sangrantes sobre el mar desflora         5   \n",
       "..        ...                                     ...       ...   \n",
       "107         8         En el vaso sombrío de mis penas        10   \n",
       "108         8         En el vaso sombrío de mis penas        11   \n",
       "109         8         En el vaso sombrío de mis penas        12   \n",
       "110         8         En el vaso sombrío de mis penas        13   \n",
       "111         8         En el vaso sombrío de mis penas        14   \n",
       "\n",
       "                                       verso     escanSig    escanNum  \n",
       "0     Rosas sangrantes sobre el mar desflora  +--+---+-+-    1 4 8 10  \n",
       "1       el sol que dice adioses en la tarde,  -+-+-+---+-    2 4 6 10  \n",
       "2         riman las aguas su canción sonora,  +--+---+-+-    1 4 8 10  \n",
       "3      bajo nubes de fuego el poniente arde.  --+--+--++-    3 6 9 10  \n",
       "4     Vibran las cañas al chocar del viento,  +--+---+-+-    1 4 8 10  \n",
       "..                                       ...          ...         ...  \n",
       "107     Quedó un dulzor de mieles en mi boca  -+-+-+---+-    2 4 6 10  \n",
       "108  y algo muriente se fundió en el viento.  +--+---+-+-    1 4 8 10  \n",
       "109   ¡Ya dejé de llorar!... En mi horizonte  +-+--+---+-    1 3 6 10  \n",
       "110          vi dibujarse una esperanza loca  +--++--+-+-  1 4 5 8 10  \n",
       "111         tras la tétrica risa de Caronte.  --+--+---+-      3 6 10  \n",
       "\n",
       "[112 rows x 6 columns]"
      ]
     },
     "execution_count": 13,
     "metadata": {},
     "output_type": "execute_result"
    }
   ],
   "source": [
    "df"
   ]
  },
  {
   "attachments": {},
   "cell_type": "markdown",
   "metadata": {},
   "source": [
    "Al haber escrito la dataframe a un archivo, usando el formato Excel, podemos abrirla con un programa de hoja de cálculo. Los datos se muestran como en la imagen siguiente, abiertos con LibreOffice:\n",
    "\n",
    "<img src=\"./img/05_dataframe_corpus_rantanplan_excel.png\" alt=\"Captura dataframe\"></img>"
   ]
  }
 ],
 "metadata": {
  "kernelspec": {
   "display_name": "Python 3 (ipykernel)",
   "language": "python",
   "name": "python3"
  },
  "language_info": {
   "codemirror_mode": {
    "name": "ipython",
    "version": 3
   },
   "file_extension": ".py",
   "mimetype": "text/x-python",
   "name": "python",
   "nbconvert_exporter": "python",
   "pygments_lexer": "ipython3",
   "version": "3.9.12"
  }
 },
 "nbformat": 4,
 "nbformat_minor": 4
}
