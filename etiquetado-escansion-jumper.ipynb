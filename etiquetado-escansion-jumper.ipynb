{
 "cells": [
  {
   "cell_type": "markdown",
   "metadata": {},
   "source": [
    "# Escansión con Jumper"
   ]
  },
  {
   "cell_type": "markdown",
   "metadata": {},
   "source": [
    "El notebook debe abrirse en el mismo directorio donde se ha descargado Jumper, para poder importar el módulo `jumper.py` (o bien se puede copiar `jumper.py` en el directorio que contiene el notebook)."
   ]
  },
  {
   "cell_type": "markdown",
   "metadata": {},
   "source": [
    "## Escansión de un solo poema"
   ]
  },
  {
   "cell_type": "code",
   "execution_count": 1,
   "metadata": {},
   "outputs": [],
   "source": [
    "texto_poema = \"\"\"Rosas sangrantes sobre el mar desflora\n",
    "el sol que dice adioses en la tarde,\n",
    "riman las aguas su canción sonora,\n",
    "bajo nubes de fuego el poniente arde.\n",
    "\n",
    "Vibran las cañas al chocar del viento,\n",
    "formando extraña y triste sinfonía,\n",
    "y la palmera altiva en vaivén lento\n",
    "es una glauca nota de armonía.\n",
    "\n",
    "Una barca se aleja lentamente,\n",
    "una estela de luz, un vago canto,\n",
    "sombras que pasan sobre el quieto mar;\n",
    "\n",
    "Y las horas se van pausadamente,\n",
    "mientras vierte la luz su último encanto\n",
    "en un intenso, pálido llamear.\n",
    "\"\"\""
   ]
  },
  {
   "cell_type": "code",
   "execution_count": 2,
   "metadata": {},
   "outputs": [],
   "source": [
    "import jumper"
   ]
  },
  {
   "cell_type": "code",
   "execution_count": 6,
   "metadata": {},
   "outputs": [],
   "source": [
    "resultado = jumper.escandir_texto(texto_poema)"
   ]
  },
  {
   "cell_type": "code",
   "execution_count": 12,
   "metadata": {
    "collapsed": true
   },
   "outputs": [
    {
     "data": {
      "text/plain": [
       "[['Rosas sangrantes sobre el mar desflora',\n",
       "  'Rosas sangrantes sobre el mar desflora',\n",
       "  11,\n",
       "  [1, 4, 8, 10],\n",
       "  [1, 4, 8, 10],\n",
       "  'Endecasílabo sáfico puro pleno',\n",
       "  1.0],\n",
       " ['el sol que dice adioses en la tarde,',\n",
       "  'el sol que dice adioses en la tarde,',\n",
       "  11,\n",
       "  [2, 4, 6, 10],\n",
       "  [2, 4, 6, 10],\n",
       "  'Endecasílabo heroico corto',\n",
       "  1.0],\n",
       " ['riman las aguas su canción sonora,',\n",
       "  'riman las aguas su canción sonora,',\n",
       "  11,\n",
       "  [1, 4, 8, 10],\n",
       "  [1, 4, 8, 10],\n",
       "  'Endecasílabo sáfico puro pleno',\n",
       "  1.0],\n",
       " ['bajo nubes de fuego el poniente arde.',\n",
       "  'bajo nubes de fuego el poniente arde.',\n",
       "  11,\n",
       "  [3, 6, 9, 10],\n",
       "  [3, 6, 10],\n",
       "  'Endecasílabo melódico puro',\n",
       "  0.9],\n",
       " ['Vibran las cañas al chocar del viento,',\n",
       "  'Vibran las cañas al chocar del viento,',\n",
       "  11,\n",
       "  [1, 4, 8, 10],\n",
       "  [1, 4, 8, 10],\n",
       "  'Endecasílabo sáfico puro pleno',\n",
       "  1.0],\n",
       " ['formando extraña y triste sinfonía,',\n",
       "  'formando extraña y triste sinfonía,',\n",
       "  11,\n",
       "  [2, 4, 6, 10],\n",
       "  [2, 4, 6, 10],\n",
       "  'Endecasílabo heroico corto',\n",
       "  1.0],\n",
       " ['y la palmera altiva en vaivén lento',\n",
       "  'y la palmera altiva en vaivén lento',\n",
       "  11,\n",
       "  [4, 6, 9, 10],\n",
       "  [4, 6, 10],\n",
       "  'Endecasílabo sáfico corto',\n",
       "  0.9],\n",
       " ['es una glauca nota de armonía.',\n",
       "  'es una glauca nota de armonía.',\n",
       "  11,\n",
       "  [1, 2, 4, 6, 10],\n",
       "  [2, 4, 6, 10],\n",
       "  'Endecasílabo heroico corto',\n",
       "  0.9],\n",
       " ['Una barca se aleja lentamente,',\n",
       "  'Una barca se aleja lentamente,',\n",
       "  11,\n",
       "  [1, 3, 6, 8, 10],\n",
       "  [1, 3, 6, 8, 10],\n",
       "  'Endecasílabo melódico pleno',\n",
       "  1.0],\n",
       " ['una estela de luz, un vago canto,',\n",
       "  'una estela de luz, un vago canto,',\n",
       "  11,\n",
       "  [1, 3, 6, 7, 8, 10],\n",
       "  [1, 3, 6, 8, 10],\n",
       "  'Endecasílabo melódico pleno',\n",
       "  0.9],\n",
       " ['sombras que pasan sobre el quieto mar;',\n",
       "  'sombras que pasan sobre el quieto mar;',\n",
       "  11,\n",
       "  [1, 4, 8, 10],\n",
       "  [1, 4, 8, 10],\n",
       "  'Endecasílabo sáfico puro pleno',\n",
       "  1.0],\n",
       " ['Y las horas se van pausadamente,',\n",
       "  'Y las horas se van pausadamente,',\n",
       "  11,\n",
       "  [3, 6, 8, 10],\n",
       "  [3, 6, 8, 10],\n",
       "  'Endecasílabo melódico largo',\n",
       "  1.0],\n",
       " ['mientras vierte la luz su último encanto',\n",
       "  'mientras vierte la luz su último encanto',\n",
       "  11,\n",
       "  [3, 6, 7, 10],\n",
       "  [3, 6, 10],\n",
       "  'Endecasílabo melódico puro',\n",
       "  0.9],\n",
       " ['en un intenso, pálido llamear.',\n",
       "  'en un intenso pálido llamar',\n",
       "  11,\n",
       "  [2, 4, 6, 10],\n",
       "  [2, 4, 6, 10],\n",
       "  'Endecasílabo heroico corto',\n",
       "  1.0]]"
      ]
     },
     "execution_count": 12,
     "metadata": {},
     "output_type": "execute_result"
    }
   ],
   "source": [
    "resultado"
   ]
  },
  {
   "cell_type": "code",
   "execution_count": 65,
   "metadata": {
    "scrolled": true
   },
   "outputs": [
    {
     "name": "stdout",
     "output_type": "stream",
     "text": [
      "Rosas sangrantes sobre el mar desflora\t11\t[1, 4, 8, 10]\t[1, 4, 8, 10]\tEndecasílabo sáfico puro pleno\t1.0\n",
      "el sol que dice adioses en la tarde,\t11\t[2, 4, 6, 10]\t[2, 4, 6, 10]\tEndecasílabo heroico corto\t1.0\n",
      "riman las aguas su canción sonora,\t11\t[1, 4, 8, 10]\t[1, 4, 8, 10]\tEndecasílabo sáfico puro pleno\t1.0\n",
      "bajo nubes de fuego el poniente arde.\t11\t[3, 6, 9, 10]\t[3, 6, 10]\tEndecasílabo melódico puro\t0.9\n",
      "Vibran las cañas al chocar del viento,\t11\t[1, 4, 8, 10]\t[1, 4, 8, 10]\tEndecasílabo sáfico puro pleno\t1.0\n",
      "formando extraña y triste sinfonía,\t11\t[2, 4, 6, 10]\t[2, 4, 6, 10]\tEndecasílabo heroico corto\t1.0\n",
      "y la palmera altiva en vaivén lento\t11\t[4, 6, 9, 10]\t[4, 6, 10]\tEndecasílabo sáfico corto\t0.9\n",
      "es una glauca nota de armonía.\t11\t[1, 2, 4, 6, 10]\t[2, 4, 6, 10]\tEndecasílabo heroico corto\t0.9\n",
      "Una barca se aleja lentamente,\t11\t[1, 3, 6, 8, 10]\t[1, 3, 6, 8, 10]\tEndecasílabo melódico pleno\t1.0\n",
      "una estela de luz, un vago canto,\t11\t[1, 3, 6, 7, 8, 10]\t[1, 3, 6, 8, 10]\tEndecasílabo melódico pleno\t0.9\n",
      "sombras que pasan sobre el quieto mar;\t11\t[1, 4, 8, 10]\t[1, 4, 8, 10]\tEndecasílabo sáfico puro pleno\t1.0\n",
      "Y las horas se van pausadamente,\t11\t[3, 6, 8, 10]\t[3, 6, 8, 10]\tEndecasílabo melódico largo\t1.0\n",
      "mientras vierte la luz su último encanto\t11\t[3, 6, 7, 10]\t[3, 6, 10]\tEndecasílabo melódico puro\t0.9\n",
      "en un intenso pálido llamar\t11\t[2, 4, 6, 10]\t[2, 4, 6, 10]\tEndecasílabo heroico corto\t1.0\n"
     ]
    }
   ],
   "source": [
    "for infos in resultado:\n",
    "    print(\"\\t\".join([str(x) for x in infos[1:]]))\n"
   ]
  },
  {
   "cell_type": "code",
   "execution_count": 34,
   "metadata": {
    "scrolled": true
   },
   "outputs": [
    {
     "name": "stdout",
     "output_type": "stream",
     "text": [
      "Rosas sangrantes sobre el mar desflora\t11\t1 4 8 10\t1 4 8 10\tEndecasílabo sáfico puro pleno\t100\n",
      "el sol que dice adioses en la tarde,\t11\t2 4 6 10\t2 4 6 10\tEndecasílabo heroico corto\t100\n",
      "riman las aguas su canción sonora,\t11\t1 4 8 10\t1 4 8 10\tEndecasílabo sáfico puro pleno\t100\n",
      "bajo nubes de fuego el poniente arde.\t11\t3 6 9 10\t3 6 10\tEndecasílabo melódico puro\t90\n",
      "Vibran las cañas al chocar del viento,\t11\t1 4 8 10\t1 4 8 10\tEndecasílabo sáfico puro pleno\t100\n",
      "formando extraña y triste sinfonía,\t11\t2 4 6 10\t2 4 6 10\tEndecasílabo heroico corto\t100\n",
      "y la palmera altiva en vaivén lento\t11\t4 6 9 10\t4 6 10\tEndecasílabo sáfico corto\t90\n",
      "es una glauca nota de armonía.\t11\t1 2 4 6 10\t2 4 6 10\tEndecasílabo heroico corto\t90\n",
      "Una barca se aleja lentamente,\t11\t1 3 6 8 10\t1 3 6 8 10\tEndecasílabo melódico pleno\t100\n",
      "una estela de luz, un vago canto,\t11\t1 3 6 7 8 10\t1 3 6 8 10\tEndecasílabo melódico pleno\t90\n",
      "sombras que pasan sobre el quieto mar;\t11\t1 4 8 10\t1 4 8 10\tEndecasílabo sáfico puro pleno\t100\n",
      "Y las horas se van pausadamente,\t11\t3 6 8 10\t3 6 8 10\tEndecasílabo melódico largo\t100\n",
      "mientras vierte la luz su último encanto\t11\t3 6 7 10\t3 6 10\tEndecasílabo melódico puro\t90\n",
      "en un intenso pálido llamar\t11\t2 4 6 10\t2 4 6 10\tEndecasílabo heroico corto\t100\n"
     ]
    }
   ],
   "source": [
    "for infos in resultado:\n",
    "    print(\"\\t\".join([infos[1], str(infos[2]),\n",
    "                     \" \".join([str(x) for x in infos[3]]),\n",
    "                     \" \".join([str(x) for x in infos[4]]),\n",
    "                    infos[5], str(int(100*infos[6]))]))"
   ]
  },
  {
   "cell_type": "markdown",
   "metadata": {},
   "source": [
    "## Escansión de un corpus"
   ]
  },
  {
   "cell_type": "code",
   "execution_count": 64,
   "metadata": {
    "scrolled": true
   },
   "outputs": [
    {
     "name": "stdout",
     "output_type": "stream",
     "text": [
      "disco004t\\disco004t_0089.txt\n",
      "disco004t\\disco004t_0090.txt\n",
      "disco004t\\disco004t_0091.txt\n",
      "disco004t\\disco004t_0092.txt\n",
      "disco004t\\disco004t_0093.txt\n",
      "disco004t\\disco004t_0094.txt\n",
      "disco004t\\disco004t_0095.txt\n",
      "disco004t\\disco004t_0096.txt\n"
     ]
    }
   ],
   "source": [
    "import pandas as pd\n",
    "from pathlib import Path\n",
    "\n",
    "import jumper\n",
    "\n",
    "dir_poemas = \"disco004t\"\n",
    "ruta_poemas = Path(dir_poemas)\n",
    "ruta_salida = ruta_poemas / \"..\" / \"escansion_evangelina-guerrero.xlsx\"\n",
    "\n",
    "# preparar listas para los datos\n",
    "poemas = []\n",
    "numeros_poema = []\n",
    "indices = []\n",
    "numeros_de_silabas = []\n",
    "escansiones = []\n",
    "escansiones_sin_antirritmicos = []\n",
    "tipos_de_verso = []\n",
    "coincidencias = []\n",
    "\n",
    "# recorrer poemas y obtener escansión\n",
    "for numero_poema, ruta_poema in enumerate(ruta_poemas.iterdir()):\n",
    "    # mostrar el nombre de archivo de cada poema en pantalla\n",
    "    print(ruta_poema)\n",
    "    # procesar cada poema\n",
    "    with open(ruta_poema, mode=\"r\", encoding=\"utf8\") as descriptor_poema:\n",
    "        # filtrar las líneas vacías si las hay\n",
    "        texto_sin_blancos_lista = [linea.strip() for linea in descriptor_poema\n",
    "                                   if linea.strip() != \"\"]\n",
    "        # añadir contenido de la lista con el texto de cada verso\n",
    "        # a la lista general de datos\n",
    "        poemas.extend(texto_sin_blancos_lista)\n",
    "        # poner texto del poema como CADENA para dar a Jumper\n",
    "        texto_sin_blancos = \"\\n\".join(texto_sin_blancos_lista)\n",
    "        # escansion (mismo proceso que para un solo poema)\n",
    "        resultados = jumper.escandir_texto(texto_sin_blancos)\n",
    "        for indice, infos in enumerate(resultados):\n",
    "            escansion = \" \".join([str(x) for x in infos[3]])\n",
    "            escansion_sin_antirritmicos = \" \".join([str(x) for x in infos[4]])\n",
    "            # añadir escansión a lista general de datos\n",
    "            escansiones.append(escansion)\n",
    "            escansiones_sin_antirritmicos.append(escansion_sin_antirritmicos)\n",
    "            # añadir número de cada verso y\n",
    "            # un número para el poema a lista general\n",
    "            indices.append(indice+1)\n",
    "            numeros_poema.append(numero_poema+1)\n",
    "            tipos_de_verso.append(infos[5])\n",
    "            numeros_de_silabas.append(infos[2])\n",
    "            coincidencias.append(int(100*infos[6]))\n",
    "            \n",
    "\n",
    "# crear dataframe con las listas generales de datos\n",
    "datos = {\"numPoema\": numeros_poema,        \n",
    "        \"numVerso\": indices,\n",
    "        \"verso\": poemas,\n",
    "        \"numSil\": numeros_de_silabas, \n",
    "        \"escansion\": escansiones,\n",
    "        \"escansionSinAnti\": escansiones_sin_antirritmicos,\n",
    "        \"tipoVerso\": tipos_de_verso,\n",
    "        \"coincidencia\": coincidencias}\n",
    "\n",
    "df = pd.DataFrame(datos)\n",
    "\n",
    "# escribir la dataframe en el archivo de salida\n",
    "# la utilización de pd.ExcelWriter, en Windows, evita problemas de codificación de caracteres acentuados\n",
    "writer = pd.ExcelWriter(ruta_salida, engine='xlsxwriter', options={'encoding': 'utf-8'})\n",
    "df.to_excel(writer, sheet_name='salidaJumper', index=False)\n",
    "writer.save()"
   ]
  }
 ],
 "metadata": {
  "kernelspec": {
   "display_name": "Python 3",
   "language": "python",
   "name": "python3"
  },
  "language_info": {
   "codemirror_mode": {
    "name": "ipython",
    "version": 3
   },
   "file_extension": ".py",
   "mimetype": "text/x-python",
   "name": "python",
   "nbconvert_exporter": "python",
   "pygments_lexer": "ipython3",
   "version": "3.7.4"
  }
 },
 "nbformat": 4,
 "nbformat_minor": 2
}
