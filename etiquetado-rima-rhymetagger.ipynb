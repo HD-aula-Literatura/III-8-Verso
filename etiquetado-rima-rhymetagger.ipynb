{
 "cells": [
  {
   "cell_type": "markdown",
   "id": "3dbf3d3c",
   "metadata": {},
   "source": [
    "# Análisis de rima con Rhyme Tagger"
   ]
  },
  {
   "cell_type": "markdown",
   "id": "71c4ffa4",
   "metadata": {},
   "source": [
    "El código y documentación de la herramienta están disponibles en https://github.com/versotym/rhymetagger\n",
    "\n",
    "Se trata de una herramienta multilingüe, las lenguas soportadas están en la documentación (español, francés, inglés, alemán, checo entre otras).\n",
    "\n",
    "El uso es muy sencillo y la salida es más sencilla que Rantanplan. Proporciona el esquema rimático (p. ej. abab) pero no las rimas (contrariamente a Rantanplan). Otra diferencia con respecto a Rantanplan es que RhymeTagger no requiere una librería de análisis lingüistico.\n",
    "\n",
    "Vemos primero paso a paso cómo usar la herramienta y después un ejemplo completo.\n",
    "\n",
    "Primero se aborda cómo etiquetar un poema individual y después un corpus de varios poemas."
   ]
  },
  {
   "cell_type": "markdown",
   "id": "0b7b6425",
   "metadata": {},
   "source": [
    "- [Instalación](#instalacion)\n",
    "- [Uso para etiquetar la rima en un solo poema](#uso-poema-unico)\n",
    "    - [Ejemplo completo](#ejemplo-completo)\n",
    "- [Uso para etiquetar la rima en un corpus de varios poemas](#uso-varios-poemas)"
   ]
  },
  {
   "cell_type": "markdown",
   "id": "b43ed954",
   "metadata": {},
   "source": [
    "<a name=\"instalacion\"></a>\n",
    "\n",
    "## Instalación"
   ]
  },
  {
   "cell_type": "markdown",
   "id": "8244ad39",
   "metadata": {},
   "source": [
    "Se efectúa con el comando habitual para instalar módulos de Python:"
   ]
  },
  {
   "cell_type": "code",
   "execution_count": 1,
   "id": "aadcffe9",
   "metadata": {
    "scrolled": true
   },
   "outputs": [
    {
     "name": "stdout",
     "output_type": "stream",
     "text": [
      "Collecting rhymetagger\n",
      "  Using cached rhymetagger-0.2.9.tar.gz (3.0 MB)\n",
      "  Preparing metadata (setup.py) ... \u001b[?25ldone\n",
      "\u001b[?25hCollecting ujson\n",
      "  Downloading ujson-5.6.0-cp39-cp39-manylinux_2_17_x86_64.manylinux2014_x86_64.whl (52 kB)\n",
      "\u001b[2K     \u001b[38;2;114;156;31m━━━━━━━━━━━━━━━━━━━━━━━━━━━━━━━━━━━━━━━━\u001b[0m \u001b[32m52.6/52.6 kB\u001b[0m \u001b[31m1.1 MB/s\u001b[0m eta \u001b[36m0:00:00\u001b[0m MB/s\u001b[0m eta \u001b[36m0:00:01\u001b[0m\n",
      "\u001b[?25hRequirement already satisfied: nltk in /home/ruizfabo/anaconda3/envs/py39deezy/lib/python3.9/site-packages (from rhymetagger) (3.7)\n",
      "Requirement already satisfied: joblib in /home/ruizfabo/anaconda3/envs/py39deezy/lib/python3.9/site-packages (from nltk->rhymetagger) (1.1.0)\n",
      "Requirement already satisfied: click in /home/ruizfabo/anaconda3/envs/py39deezy/lib/python3.9/site-packages (from nltk->rhymetagger) (8.1.3)\n",
      "Requirement already satisfied: regex>=2021.8.3 in /home/ruizfabo/anaconda3/envs/py39deezy/lib/python3.9/site-packages (from nltk->rhymetagger) (2022.7.25)\n",
      "Requirement already satisfied: tqdm in /home/ruizfabo/anaconda3/envs/py39deezy/lib/python3.9/site-packages (from nltk->rhymetagger) (4.64.0)\n",
      "Building wheels for collected packages: rhymetagger\n",
      "  Building wheel for rhymetagger (setup.py) ... \u001b[?25ldone\n",
      "\u001b[?25h  Created wheel for rhymetagger: filename=rhymetagger-0.2.9-py3-none-any.whl size=3092942 sha256=868761d2837cf447871119c977389ae0f873dbde0e7d23d25486f83c7af0c310\n",
      "  Stored in directory: /home/ruizfabo/.cache/pip/wheels/23/c6/53/5ba29373fa9f439fbd6a2991d38b2eca759f53023bc8e339de\n",
      "Successfully built rhymetagger\n",
      "Installing collected packages: ujson, rhymetagger\n",
      "Successfully installed rhymetagger-0.2.9 ujson-5.6.0\n"
     ]
    }
   ],
   "source": [
    "!pip install rhymetagger"
   ]
  },
  {
   "cell_type": "markdown",
   "id": "c843e712",
   "metadata": {},
   "source": [
    "<a name=\"uso-poema-unico\"></a>\n",
    "\n",
    "## Uso para etiquetar la rima en un solo poema"
   ]
  },
  {
   "cell_type": "markdown",
   "id": "a6e41435",
   "metadata": {},
   "source": [
    "Importar la librería:"
   ]
  },
  {
   "cell_type": "code",
   "execution_count": 2,
   "id": "77103f25",
   "metadata": {},
   "outputs": [],
   "source": [
    "from rhymetagger import RhymeTagger"
   ]
  },
  {
   "cell_type": "markdown",
   "id": "35edaf78",
   "metadata": {},
   "source": [
    "Instanciar un objeto de typo `RhymeTagger`. Este objeto se ocupa de hacer el análisis de rima."
   ]
  },
  {
   "cell_type": "code",
   "execution_count": 3,
   "id": "39a500c9",
   "metadata": {},
   "outputs": [],
   "source": [
    "rt = RhymeTagger()"
   ]
  },
  {
   "cell_type": "markdown",
   "id": "c98eb190",
   "metadata": {},
   "source": [
    "Configurar el objeto para la lengua que se quiere analizar. Los códigos de lengua disponibles por defecto están en la [documentación](https://github.com/versotym/rhymetagger#pre-trained-models). Nosotros cargamos el modelo para español, entrenado sobre la base del corpus [DISCO](https://github.com/pruizf/disco).\n",
    "\n",
    "Al configurar la lengua, se imprimen en pantalla algunas características del modelo. Se puede eliminar esta información con la opción `verbose=False`, es decir, cargando el modelo con `rt.load_model(model=\"es\", verbose=False)` en este caso."
   ]
  },
  {
   "cell_type": "code",
   "execution_count": 4,
   "id": "1cbba67d",
   "metadata": {
    "scrolled": false
   },
   "outputs": [
    {
     "name": "stdout",
     "output_type": "stream",
     "text": [
      "====================================\n",
      "Model loaded with following settings:\n",
      "====================================\n",
      "  frequency_min: 3\n",
      "           lang: es\n",
      "       max_iter: 20\n",
      "          ngram: 3\n",
      "   ngram_length: 3\n",
      "   prob_ipa_min: 0.9\n",
      " prob_ngram_min: 0.9\n",
      "     same_words: False\n",
      "   stanza_limit: True\n",
      "         stress: True\n",
      "       syll_max: 2\n",
      "    t_score_min: 3.078\n",
      "   vowel_length: True\n",
      "         window: 5\n",
      "====================================\n"
     ]
    }
   ],
   "source": [
    "rt.load_model(model='es')"
   ]
  },
  {
   "cell_type": "markdown",
   "id": "b9dab64b",
   "metadata": {},
   "source": [
    "El texto de nuestro poema es el ya utilizado para Rantanplan (poema de la autora filipina Evangelina Guerrero):"
   ]
  },
  {
   "cell_type": "code",
   "execution_count": 6,
   "id": "f57741a5",
   "metadata": {},
   "outputs": [],
   "source": [
    "texto_poema = \"\"\"Rosas sangrantes sobre el mar desflora\n",
    "el sol que dice adioses en la tarde,\n",
    "riman las aguas su canción sonora,\n",
    "bajo nubes de fuego el poniente arde.\n",
    "\n",
    "Vibran las cañas al chocar del viento,\n",
    "formando extraña y triste sinfonía,\n",
    "y la palmera altiva en vaivén lento\n",
    "es una glauca nota de armonía.\n",
    "\n",
    "Una barca se aleja lentamente,\n",
    "una estela de luz, un vago canto,\n",
    "sombras que pasan sobre el quieto mar;\n",
    "\n",
    "Y las horas se van pausadamente,\n",
    "mientras vierte la luz su último encanto\n",
    "en un intenso, pálido llamear.\"\"\""
   ]
  },
  {
   "cell_type": "markdown",
   "id": "520cf1c4",
   "metadata": {},
   "source": [
    "RhymeTagger necesita como entrada una *lista* de versos, una lista de cadenas de texto, cada una de las cuales corresponde a un verso.\n",
    "\n",
    "El código siguiente pasa de la cadena `texto_poema` a la lista de cadenas `texto_poema_lista`, gracias a la división del poema en versos usando el salto de línea `\\n`, con `.split(\"\\n\")`. La expresión también elimina las líneas vacías, ya que estas no cumplen la condicion `if linea != \"\"`."
   ]
  },
  {
   "cell_type": "code",
   "execution_count": 7,
   "id": "996b0d47",
   "metadata": {},
   "outputs": [],
   "source": [
    "texto_poema_lista = [linea for linea in texto_poema.split(\"\\n\") if linea != \"\"]"
   ]
  },
  {
   "cell_type": "code",
   "execution_count": 8,
   "id": "64fb1eb1",
   "metadata": {
    "scrolled": true
   },
   "outputs": [
    {
     "data": {
      "text/plain": [
       "['Rosas sangrantes sobre el mar desflora',\n",
       " 'el sol que dice adioses en la tarde,',\n",
       " 'riman las aguas su canción sonora,',\n",
       " 'bajo nubes de fuego el poniente arde.',\n",
       " 'Vibran las cañas al chocar del viento,',\n",
       " 'formando extraña y triste sinfonía,',\n",
       " 'y la palmera altiva en vaivén lento',\n",
       " 'es una glauca nota de armonía.',\n",
       " 'Una barca se aleja lentamente,',\n",
       " 'una estela de luz, un vago canto,',\n",
       " 'sombras que pasan sobre el quieto mar;',\n",
       " 'Y las horas se van pausadamente,',\n",
       " 'mientras vierte la luz su último encanto',\n",
       " 'en un intenso, pálido llamear.']"
      ]
     },
     "execution_count": 8,
     "metadata": {},
     "output_type": "execute_result"
    }
   ],
   "source": [
    "texto_poema_lista"
   ]
  },
  {
   "cell_type": "markdown",
   "id": "a97ca8a3",
   "metadata": {},
   "source": [
    "Para obtener las rimas, aplicamos el método `tag()` del objeto `RhymeTagger` (que está asignado a `rt`):\n",
    "\n",
    "Los formatos de salida están descritos en la [documentación](https://github.com/versotym/rhymetagger#rhymetaggertagpoem-transcribedfalse-output_format1-kwargs), si bien el más práctico para nosotros es el formato `3`, que da la posición de la rima en el esquema rimático usando un índice numérico. Es decir, en vez de *a b a b c d c d*, por ejemplo, nos daría *1 2 1 2 3 4 3 4*. Hablando más estrictamente, nos da una lista con los números que corresponden a esas posiciones. Veremos después cómo traducir estos números a un esquema rimático expresado con letras."
   ]
  },
  {
   "cell_type": "code",
   "execution_count": 19,
   "id": "ad415d95",
   "metadata": {},
   "outputs": [],
   "source": [
    "rimas = rt.tag(texto_poema_lista, output_format=3)"
   ]
  },
  {
   "cell_type": "code",
   "execution_count": 20,
   "id": "913197a1",
   "metadata": {},
   "outputs": [
    {
     "data": {
      "text/plain": [
       "[1, 2, 1, 2, 3, 4, 3, 4, 5, 6, 7, 5, 6, 7]"
      ]
     },
     "execution_count": 20,
     "metadata": {},
     "output_type": "execute_result"
    }
   ],
   "source": [
    "rimas"
   ]
  },
  {
   "cell_type": "markdown",
   "id": "441e2d2c",
   "metadata": {},
   "source": [
    "Para traducir el esquema a letras, podemos hacer lo siguiente:"
   ]
  },
  {
   "cell_type": "code",
   "execution_count": 13,
   "id": "caeb47a3",
   "metadata": {},
   "outputs": [],
   "source": [
    "from string import ascii_lowercase"
   ]
  },
  {
   "cell_type": "code",
   "execution_count": 30,
   "id": "a051ad73",
   "metadata": {},
   "outputs": [],
   "source": [
    "rimas_letras = [ascii_lowercase[posicion_esquema-1]\n",
    "                if posicion_esquema is not None\n",
    "                else \"-\" for posicion_esquema in rimas]"
   ]
  },
  {
   "cell_type": "code",
   "execution_count": 15,
   "id": "f89cfa53",
   "metadata": {
    "scrolled": true
   },
   "outputs": [
    {
     "data": {
      "text/plain": [
       "['a', 'b', 'a', 'b', 'c', 'd', 'c', 'd', 'e', 'f', 'g', 'e', 'f', 'g']"
      ]
     },
     "execution_count": 15,
     "metadata": {},
     "output_type": "execute_result"
    }
   ],
   "source": [
    "rimas_letras"
   ]
  },
  {
   "cell_type": "markdown",
   "id": "94a58bdd",
   "metadata": {},
   "source": [
    "`ascii_lowercase` son las letras del alfabeto en inglés, dadas como una cadena de texto. Se puede acceder a cada carácter de una cadena de texto usando un índice numérico, empezando por 0. Es decir, el primer carácter de la cadena corresponde al índice 0, el segundo al índice 1, etc. Aprovecharemos esta propiedad de las cadenas en el lenguaje Python para traducir los índices numéricos devueltos por RhymeTagger a las letras correspondientes.\n",
    "\n",
    "Para esto, debemos restar 1 al índice proporcionado por RhymeTagger, ya que RhymeTagger empieza a contar por 1, mientras que las posiciones de una cadena de Python se empiezan a describir a partir de 0, no 1. Esto es lo que hace la expresión `[ascii_lowercase[posicion_esquema-1] if posicion_esquema is not None else \"-\" for posicion_esquema in rimas]`.\n",
    "\n",
    "Más exactamente, la expresión traduce el índice numérico a un índice alfabético, salvo en caso de que RhymeTagger no haya podido determinar la posición del verso en el esquema rimático. En tal caso, en vez de un número, RhymeTagger da un guion `-` como salida, que queda tal cual al pasar a índices alfabéticos."
   ]
  },
  {
   "cell_type": "markdown",
   "id": "83474452",
   "metadata": {},
   "source": [
    "Finalmente, podemos mostrar el número, texto, y posición en el esquema rimático de cada verso con el bucle siguiente. Hace uso de la instrucción `enumerate()`, que ya hemos visto en los notebooks sobre [escansión](https://github.com/HD-aula-Literatura/III-8-Verso/blob/main/etiquetado-escansion-rantanplan.ipynb) con Rantanplan y [rima con Rantanplan](https://github.com/HD-aula-Literatura/III-8-Verso/blob/main/etiquetado-rima-rantanplan.ipynb)"
   ]
  },
  {
   "cell_type": "code",
   "execution_count": 29,
   "id": "9ca487fb",
   "metadata": {
    "scrolled": true
   },
   "outputs": [
    {
     "name": "stdout",
     "output_type": "stream",
     "text": [
      "1\tRosas sangrantes sobre el mar desflora\ta\n",
      "2\tel sol que dice adioses en la tarde,\tb\n",
      "3\triman las aguas su canción sonora,\ta\n",
      "4\tbajo nubes de fuego el poniente arde.\tb\n",
      "5\tVibran las cañas al chocar del viento,\tc\n",
      "6\tformando extraña y triste sinfonía,\td\n",
      "7\ty la palmera altiva en vaivén lento\tc\n",
      "8\tes una glauca nota de armonía.\td\n",
      "9\tUna barca se aleja lentamente,\te\n",
      "10\tuna estela de luz, un vago canto,\tf\n",
      "11\tsombras que pasan sobre el quieto mar;\tg\n",
      "12\tY las horas se van pausadamente,\te\n",
      "13\tmientras vierte la luz su último encanto\tf\n",
      "14\ten un intenso, pálido llamear.\tg\n"
     ]
    }
   ],
   "source": [
    "for indice, verso in enumerate(texto_poema_lista):\n",
    "    print(f\"{indice+1}\\t{verso}\\t{rimas_letras[indice]}\")"
   ]
  },
  {
   "cell_type": "markdown",
   "id": "ac528684",
   "metadata": {},
   "source": [
    "Para mejorar la alineación del esquema rimático con respecto a los versos, se puede añadir `:<40` cuando se imprime en pantalla el texto de cada verso, en `{verso:<40}` dentro del `print()` final, con lo cual la column de los versos queda alineada a la izquierda y se rellenarán con espacios hasta alcanzar 40 caracteres aquellos versos que no llegan a 40 caracteres, de modo que el esquema rimático queda visualmente alineado."
   ]
  },
  {
   "cell_type": "code",
   "execution_count": 26,
   "id": "24d87a84",
   "metadata": {},
   "outputs": [
    {
     "name": "stdout",
     "output_type": "stream",
     "text": [
      "1\tRosas sangrantes sobre el mar desflora  \ta\n",
      "2\tel sol que dice adioses en la tarde,    \tb\n",
      "3\triman las aguas su canción sonora,      \ta\n",
      "4\tbajo nubes de fuego el poniente arde.   \tb\n",
      "5\tVibran las cañas al chocar del viento,  \tc\n",
      "6\tformando extraña y triste sinfonía,     \td\n",
      "7\ty la palmera altiva en vaivén lento     \tc\n",
      "8\tes una glauca nota de armonía.          \td\n",
      "9\tUna barca se aleja lentamente,          \te\n",
      "10\tuna estela de luz, un vago canto,       \tf\n",
      "11\tsombras que pasan sobre el quieto mar;  \tg\n",
      "12\tY las horas se van pausadamente,        \te\n",
      "13\tmientras vierte la luz su último encanto\tf\n",
      "14\ten un intenso, pálido llamear.          \tg\n"
     ]
    }
   ],
   "source": [
    "for indice, verso in enumerate(texto_poema_lista):\n",
    "    print(f\"{indice+1}\\t{verso:<40}\\t{rimas_letras[indice]}\")"
   ]
  },
  {
   "cell_type": "markdown",
   "id": "339677c5",
   "metadata": {},
   "source": [
    "<a name=\"ejemplo-completo\"></a>\n",
    "\n",
    "## Ejemplo completo"
   ]
  },
  {
   "cell_type": "code",
   "execution_count": 32,
   "id": "ada1bed7",
   "metadata": {
    "scrolled": true
   },
   "outputs": [
    {
     "name": "stdout",
     "output_type": "stream",
     "text": [
      "1\tRosas sangrantes sobre el mar desflora  \ta\n",
      "2\tel sol que dice adioses en la tarde,    \tb\n",
      "3\triman las aguas su canción sonora,      \ta\n",
      "4\tbajo nubes de fuego el poniente arde.   \tb\n",
      "5\tVibran las cañas al chocar del viento,  \tc\n",
      "6\tformando extraña y triste sinfonía,     \td\n",
      "7\ty la palmera altiva en vaivén lento     \tc\n",
      "8\tes una glauca nota de armonía.          \td\n",
      "9\tUna barca se aleja lentamente,          \te\n",
      "10\tuna estela de luz, un vago canto,       \tf\n",
      "11\tsombras que pasan sobre el quieto mar;  \tg\n",
      "12\tY las horas se van pausadamente,        \te\n",
      "13\tmientras vierte la luz su último encanto\tf\n",
      "14\ten un intenso, pálido llamear.          \tg\n"
     ]
    }
   ],
   "source": [
    "from rhymetagger import RhymeTagger\n",
    "from string import ascii_lowercase\n",
    "\n",
    "rt = RhymeTagger()\n",
    "rt.load_model(model='es', verbose=False)\n",
    "\n",
    "texto_poema = \"\"\"Rosas sangrantes sobre el mar desflora\n",
    "el sol que dice adioses en la tarde,\n",
    "riman las aguas su canción sonora,\n",
    "bajo nubes de fuego el poniente arde.\n",
    "\n",
    "Vibran las cañas al chocar del viento,\n",
    "formando extraña y triste sinfonía,\n",
    "y la palmera altiva en vaivén lento\n",
    "es una glauca nota de armonía.\n",
    "\n",
    "Una barca se aleja lentamente,\n",
    "una estela de luz, un vago canto,\n",
    "sombras que pasan sobre el quieto mar;\n",
    "\n",
    "Y las horas se van pausadamente,\n",
    "mientras vierte la luz su último encanto\n",
    "en un intenso, pálido llamear.\"\"\"\n",
    "\n",
    "texto_poema_lista = [linea for linea in texto_poema.split(\"\\n\")\n",
    "                     if linea != \"\"]\n",
    "\n",
    "rimas = rt.tag(texto_poema_lista, output_format=3)\n",
    "\n",
    "rimas_letras = [ascii_lowercase[posicion_esquema-1]\n",
    "                if posicion_esquema is not None\n",
    "                else \"-\" for posicion_esquema in rimas]\n",
    "\n",
    "for indice, verso in enumerate(texto_poema_lista):\n",
    "    print(f\"{indice+1}\\t{verso:<40}\\t{rimas_letras[indice]}\")"
   ]
  },
  {
   "cell_type": "markdown",
   "id": "797120c9",
   "metadata": {},
   "source": [
    "<a name=\"uso-varios-poemas\"></a>\n",
    "\n",
    "\n",
    "## Uso para etiquetar la rima en un corpus de varios poemas"
   ]
  },
  {
   "cell_type": "code",
   "execution_count": 33,
   "id": "cd3a50ce",
   "metadata": {
    "scrolled": true
   },
   "outputs": [
    {
     "name": "stdout",
     "output_type": "stream",
     "text": [
      "/home/ruizfabo/projects/o/dhvol/capitulo-ana-poe/disco004t/disco004t_0090.txt\n",
      "/home/ruizfabo/projects/o/dhvol/capitulo-ana-poe/disco004t/disco004t_0094.txt\n",
      "/home/ruizfabo/projects/o/dhvol/capitulo-ana-poe/disco004t/disco004t_0093.txt\n",
      "/home/ruizfabo/projects/o/dhvol/capitulo-ana-poe/disco004t/disco004t_0091.txt\n",
      "/home/ruizfabo/projects/o/dhvol/capitulo-ana-poe/disco004t/disco004t_0096.txt\n",
      "/home/ruizfabo/projects/o/dhvol/capitulo-ana-poe/disco004t/disco004t_0095.txt\n",
      "/home/ruizfabo/projects/o/dhvol/capitulo-ana-poe/disco004t/disco004t_0089.txt\n",
      "/home/ruizfabo/projects/o/dhvol/capitulo-ana-poe/disco004t/disco004t_0092.txt\n"
     ]
    }
   ],
   "source": [
    "import pandas as pd\n",
    "from pathlib import Path\n",
    "\n",
    "from rhymetagger import RhymeTagger\n",
    "from string import ascii_lowercase\n",
    "\n",
    "dir_poemas = \"/home/ruizfabo/projects/o/dhvol/capitulo-ana-poe/disco004t\"\n",
    "ruta_poemas = Path(dir_poemas)\n",
    "ruta_salida = ruta_poemas / \"..\" / \"rima_evangelina-guerrero-rhymetagger.xlsx\"\n",
    "\n",
    "# preparar listas para los datos\n",
    "poemas = []\n",
    "numeros_poema = []\n",
    "incipits = []\n",
    "indices = []\n",
    "identificadores_rima = []\n",
    "\n",
    "# instanciar el objeto RhymeTagger y configurarlo par español\n",
    "rt = RhymeTagger()\n",
    "rt.load_model(model='es', verbose=False)\n",
    "\n",
    "# recorrer poemas y obtener información sobre rima\n",
    "for numero_poema, ruta_poema in enumerate(ruta_poemas.iterdir()):\n",
    "    # mostrar el nombre de archivo de cada poema en pantalla\n",
    "    print(ruta_poema)\n",
    "    # procesar cada poema\n",
    "    with open(ruta_poema) as descriptor_poema:\n",
    "        # filtrar las líneas vacías si las hay\n",
    "        texto_sin_blancos_lista = [linea.strip() for linea in descriptor_poema\n",
    "                                   if linea.strip() != \"\"]\n",
    "        # añadir contenido de la lista con el texto de cada verso\n",
    "        # a la lista general de datos\n",
    "        poemas.extend(texto_sin_blancos_lista)\n",
    "        # rima (mismo proceso que para un solo poema)\n",
    "        rimas = rt.tag(texto_sin_blancos_lista, output_format=3)\n",
    "        rimas_letras = [ascii_lowercase[posicion_esquema-1]\n",
    "                        if posicion_esquema is not None\n",
    "                        else \"-\" for posicion_esquema in rimas]\n",
    "\n",
    "        # añadir esquemas rimáticos a lista general,\n",
    "        # en una sola vez para cada poema\n",
    "        identificadores_rima.extend(rimas_letras)\n",
    "\n",
    "        # añadir número de cada verso, íncipit y\n",
    "        # un número para el poema a lista general\n",
    "        # tantas veces como versos tiene el poema (bucle)\n",
    "        for indice, verso in enumerate(rimas):\n",
    "            indices.append(indice+1)\n",
    "            incipits.append(texto_sin_blancos_lista[0].strip())\n",
    "            numeros_poema.append(numero_poema+1)\n",
    "            \n",
    "\n",
    "# crear dataframe con las listas generales de datos\n",
    "datos = {\"numPoema\": numeros_poema,        \n",
    "        \"incipit\": incipits,\n",
    "        \"numVerso\": indices,\n",
    "        \"verso\": poemas,\n",
    "        \"esquemaRima\": identificadores_rima}\n",
    "\n",
    "df = pd.DataFrame(datos)\n",
    "\n",
    "# escribir la dataframe en el archivo de salida\n",
    "df.to_excel(ruta_salida, index=False)"
   ]
  },
  {
   "cell_type": "markdown",
   "id": "c819852a",
   "metadata": {},
   "source": [
    "Al haber escrito la dataframe a un archivo, usando el formato Excel en este caso, podemos abrirla con un programa de hoja de cálculo. Los datos se muestran como en la imagen siguiente, abiertos con LibreOffice:\n",
    "\n",
    "![Captura dataframe](./img/07_dataframe_corpus_rima_rhymetagger.png)"
   ]
  }
 ],
 "metadata": {
  "kernelspec": {
   "display_name": "Python 3 (ipykernel)",
   "language": "python",
   "name": "python3"
  },
  "language_info": {
   "codemirror_mode": {
    "name": "ipython",
    "version": 3
   },
   "file_extension": ".py",
   "mimetype": "text/x-python",
   "name": "python",
   "nbconvert_exporter": "python",
   "pygments_lexer": "ipython3",
   "version": "3.9.12"
  }
 },
 "nbformat": 4,
 "nbformat_minor": 5
}
